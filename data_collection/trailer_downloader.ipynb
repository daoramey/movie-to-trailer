{
 "cells": [
  {
   "cell_type": "code",
   "execution_count": null,
   "metadata": {
    "id": "tzl8dD1k0QPp"
   },
   "outputs": [],
   "source": [
    "from google.colab import drive\n",
    "drive.mount('/content/drive')"
   ]
  },
  {
   "cell_type": "code",
   "execution_count": null,
   "metadata": {
    "colab": {
     "base_uri": "https://localhost:8080/"
    },
    "executionInfo": {
     "elapsed": 6457,
     "status": "ok",
     "timestamp": 1622572430940,
     "user": {
      "displayName": "wile do",
      "photoUrl": "",
      "userId": "16203456976195540490"
     },
     "user_tz": -120
    },
    "id": "9XONy38KPat-",
    "outputId": "5414ffe9-5ad8-4774-de01-187ecf714f18"
   },
   "outputs": [
    {
     "name": "stdout",
     "output_type": "stream",
     "text": [
      "Collecting youtube-dl\n",
      "\u001b[?25l  Downloading https://files.pythonhosted.org/packages/32/47/a4442e3bd6f13013c0c38a5b16576e9d69da14d09b1ef00a9c0915e75b3e/youtube_dl-2021.5.16-py2.py3-none-any.whl (1.9MB)\n",
      "\u001b[K     |████████████████████████████████| 1.9MB 5.4MB/s \n",
      "\u001b[?25hInstalling collected packages: youtube-dl\n",
      "Successfully installed youtube-dl-2021.5.16\n"
     ]
    }
   ],
   "source": [
    "!pip install youtube-dl"
   ]
  },
  {
   "cell_type": "code",
   "execution_count": null,
   "metadata": {
    "colab": {
     "base_uri": "https://localhost:8080/"
    },
    "executionInfo": {
     "elapsed": 3220,
     "status": "ok",
     "timestamp": 1622572673488,
     "user": {
      "displayName": "wile do",
      "photoUrl": "",
      "userId": "16203456976195540490"
     },
     "user_tz": -120
    },
    "id": "ux9n9wojDgAO",
    "outputId": "f1436b7d-c9d4-439e-cca8-3c65ffc9bd69"
   },
   "outputs": [
    {
     "name": "stdout",
     "output_type": "stream",
     "text": [
      "Requirement already satisfied: fake_useragent in /usr/local/lib/python3.7/dist-packages (0.1.11)\n"
     ]
    }
   ],
   "source": [
    "!pip install fake_useragent"
   ]
  },
  {
   "cell_type": "code",
   "execution_count": null,
   "metadata": {
    "id": "S5GHEydt37-3"
   },
   "outputs": [],
   "source": [
    "from __future__ import unicode_literals\n",
    "import youtube_dl\n",
    "import os\n",
    "import numpy as np\n",
    "import pandas as pd\n",
    "from googleapiclient.discovery import build\n",
    "from googleapiclient.errors import HttpError\n",
    "import requests\n",
    "from fake_useragent import FakeUserAgentError, UserAgent\n",
    "from bs4 import BeautifulSoup"
   ]
  },
  {
   "cell_type": "markdown",
   "metadata": {
    "id": "UDja663C6Ubx"
   },
   "source": [
    "#Extract trailer links from metadata"
   ]
  },
  {
   "cell_type": "code",
   "execution_count": null,
   "metadata": {
    "id": "F6-xRGMlwyzq"
   },
   "outputs": [],
   "source": [
    "DEVELOPER_KEY = 'apply_your_key'\n",
    "YOUTUBE_API_SERVICE_NAME = 'youtube'\n",
    "YOUTUBE_API_VERSION = 'v3'\n",
    "\n",
    "def youtube_search(q, max_results):\n",
    "  youtube = build(YOUTUBE_API_SERVICE_NAME, YOUTUBE_API_VERSION,\n",
    "    developerKey=DEVELOPER_KEY)\n",
    "  search_response = youtube.search().list(\n",
    "    q=q,\n",
    "    part='id,snippet',\n",
    "    maxResults=max_results\n",
    "  ).execute()\n",
    "  videos_title = []\n",
    "  videos_id = []\n",
    "  for search_result in search_response.get('items', []):\n",
    "    if search_result['id']['kind'] == 'youtube#video':\n",
    "      videos_title.append(search_result['snippet']['title'])\n",
    "      videos_id.append(search_result['id']['videoId'])\n",
    "  #print('Videos:\\n','\\n'.join(videos),'\\n')\n",
    "  return videos_title,videos_id\n",
    "\n",
    "def url_txt(meta_path):\n",
    "  meta = pd.read_csv(meta_path)\n",
    "  urls = meta['trailer_url']\n",
    "  print(urls)\n",
    "  index = urls.isnull().T\n",
    "  index = index[index == True]\n",
    "  index = index.index\n",
    "  failed_meta = meta.loc[index]\n",
    "  print(failed_meta)\n",
    "  failed_title = failed_meta['title'].to_list()\n",
    "  #print(failed_title)\n",
    "  '''\n",
    "  for i in failed_title:\n",
    "      q = i + 'trailer'\n",
    "      max_results = 1\n",
    "      try:\n",
    "        title,v_id = youtube_search(q,max_results)\n",
    "        print(title,v_id)\n",
    "      except HttpError as e:\n",
    "        print('An HTTP error %d occurred:\\n%s' % (e.resp.status, e.content))\n",
    "  '''"
   ]
  },
  {
   "cell_type": "code",
   "execution_count": null,
   "metadata": {
    "colab": {
     "base_uri": "https://localhost:8080/"
    },
    "executionInfo": {
     "elapsed": 2733,
     "status": "ok",
     "timestamp": 1622572776875,
     "user": {
      "displayName": "wile do",
      "photoUrl": "",
      "userId": "16203456976195540490"
     },
     "user_tz": -120
    },
    "id": "NK7Dgk4Q7bJ4",
    "outputId": "2ce072f3-7887-42eb-c411-5196d3879bb1"
   },
   "outputs": [
    {
     "name": "stdout",
     "output_type": "stream",
     "text": [
      "0      https://www.youtube.com/watch?v=kGM4uYZzfu0\n",
      "1      https://www.youtube.com/watch?v=szby7ZHLnkA\n",
      "2      https://www.youtube.com/watch?v=jKCj3XuPG8M\n",
      "3      https://www.youtube.com/watch?v=J79D3hny-e8\n",
      "4      https://www.youtube.com/watch?v=xOsLIiBStEs\n",
      "                          ...                     \n",
      "995    https://www.youtube.com/watch?v=WtJkS-oFw3A\n",
      "996                                            NaN\n",
      "997                                            NaN\n",
      "998                                            NaN\n",
      "999    https://www.youtube.com/watch?v=nwbpMcRSIN4\n",
      "Name: trailer_url, Length: 1000, dtype: object\n",
      "         id                            title  ... vote_count vote_average\n",
      "48   593402                        Tolo Tolo  ...        867          6.2\n",
      "93   674944                     The Occupant  ...        496          6.3\n",
      "99   656563                     Rich in Love  ...        453          7.9\n",
      "106  706503                      Lost Bullet  ...        422          6.7\n",
      "112  614292                        Bad Tales  ...        400          6.9\n",
      "..      ...                              ...  ...        ...          ...\n",
      "990  661336                    Love in Store  ...         13          6.0\n",
      "994  655371  O Melhor Verão das Nossas Vidas  ...         13          7.6\n",
      "996  651391                   Uno para todos  ...         13          5.9\n",
      "997  649028                    ‎The Wedding‎  ...         13          6.2\n",
      "998  647813             Divorzio a Las Vegas  ...         13          6.4\n",
      "\n",
      "[246 rows x 11 columns]\n"
     ]
    }
   ],
   "source": [
    "meta_path = '../data/21K_movie_record/tmdb_metadata_2020_1000.csv'\n",
    "url_txt(meta_path)"
   ]
  },
  {
   "cell_type": "markdown",
   "metadata": {
    "id": "uskxDufF7sdX"
   },
   "source": [
    "#Download trailer from YouTube"
   ]
  },
  {
   "cell_type": "code",
   "execution_count": null,
   "metadata": {
    "id": "0d4iqmq1-ci-"
   },
   "outputs": [],
   "source": [
    "def download_main(meta_path,output_dir):\n",
    "    meta = pd.read_csv(meta_path)\n",
    "    urls = meta['trailer_url'].dropna()\n",
    "    trailer_urls = []\n",
    "    print(len(urls))\n",
    "    \n",
    "    DS_Store = os.path.join(output_dir,'.DS_Store')\n",
    "    if os.path.exists(DS_Store):\n",
    "        os.remove(DS_Store)\n",
    "    f = os.listdir(output_dir)\n",
    "    done = []\n",
    "    for t in f:\n",
    "        t = t.replace('.mp4','')\n",
    "        t = 'https://www.youtube.com/watch?v=' + t\n",
    "        done.append(t)\n",
    "\n",
    "    res = list(set(urls) - set(done))\n",
    "    print(len(res))\n",
    "\n",
    "    for url in res:\n",
    "        print(url)\n",
    "        trailer = download_trailer(url,output_dir)\n",
    "        if trailer is True:\n",
    "            trailer_urls.append(url)\n",
    "    print(len(trailer_urls))\n",
    "    url_path = meta_path.replace('meta','url')\n",
    "    url_path = url_path.replace('csv','txt')\n",
    "    #save_url(trailer_urls,url_path)\n",
    "\n",
    "def save_url(trailer_urls,url_path):\n",
    "    with open(url_path,'wt') as f:\n",
    "        for u in trailer_urls:\n",
    "            f.write(str(u) + '\\n')\n",
    "    f.close()\n",
    "\n",
    "def download_trailer(trailer_url,output_dir):\n",
    "    ydl_opts = {\n",
    "    'quiet':True,\n",
    "    'format':'bestvideo[ext=mp4]+bestaudio[ext=m4a]/bestvideo[ext=mp4]/best[ext=mp4]',\n",
    "    'outtmpl':os.path.join(output_dir,'%(id)s'),\n",
    "    'continue_dl':True,\n",
    "    'postprocessors':[{\n",
    "    'key':'FFmpegVideoConvertor',\n",
    "    'preferedformat':'mp4'\n",
    "    }]\n",
    "    }\n",
    "    try:\n",
    "        with youtube_dl.YoutubeDL(ydl_opts) as ydl:\n",
    "            ydl.download([trailer_url])\n",
    "            return True\n",
    "    except Exception as error:\n",
    "        return False"
   ]
  },
  {
   "cell_type": "code",
   "execution_count": null,
   "metadata": {
    "colab": {
     "base_uri": "https://localhost:8080/"
    },
    "executionInfo": {
     "elapsed": 24680,
     "status": "ok",
     "timestamp": 1622572915528,
     "user": {
      "displayName": "wile do",
      "photoUrl": "",
      "userId": "16203456976195540490"
     },
     "user_tz": -120
    },
    "id": "uIBnzLoxD-da",
    "outputId": "dc7649bd-6b7c-4b8b-bf3a-b2e1d5496b6a"
   },
   "outputs": [
    {
     "name": "stdout",
     "output_type": "stream",
     "text": [
      "754\n",
      "754\n",
      "https://www.youtube.com/watch?v=fxv73Lo1iBE\n",
      "https://www.youtube.com/watch?v=FVrOVlS5TMU\n",
      "https://www.youtube.com/watch?v=VympX86OpWs\n",
      "https://www.youtube.com/watch?v=kY3SuNvqQPw\n",
      "https://www.youtube.com/watch?v=TbZgLKjrdnA\n",
      "https://www.youtube.com/watch?v=XWhZDQkq0bw\n",
      "https://www.youtube.com/watch?v=o5m9WhdWOQU\n",
      "https://www.youtube.com/watch?v=fklskMu40oQ\n",
      "https://www.youtube.com/watch?v=n0s0FJfyqGk\n",
      "https://www.youtube.com/watch?v=aV7H9r38Vnk\n",
      "10\n"
     ]
    }
   ],
   "source": [
    "meta_path = '../data/21K_movie_record/tmdb_metadata_2020_1000.csv'\n",
    "output_dir = '../data/13K_trailer/videos'\n",
    "#demo_download ten trailers\n",
    "download_main(meta_path,output_dir)"
   ]
  }
 ],
 "metadata": {
  "colab": {
   "authorship_tag": "ABX9TyN57EUQT1M2eaD+UCRTvx2c",
   "collapsed_sections": [],
   "mount_file_id": "1bBnzzPIxblL1UFJ5-Zvp8ER1U78Efyyw",
   "name": "trailer_downloader.ipynb",
   "provenance": [],
   "toc_visible": true
  },
  "kernelspec": {
   "display_name": "Python 3 (ipykernel)",
   "language": "python",
   "name": "python3"
  },
  "language_info": {
   "codemirror_mode": {
    "name": "ipython",
    "version": 3
   },
   "file_extension": ".py",
   "mimetype": "text/x-python",
   "name": "python",
   "nbconvert_exporter": "python",
   "pygments_lexer": "ipython3",
   "version": "3.9.21"
  }
 },
 "nbformat": 4,
 "nbformat_minor": 4
}
