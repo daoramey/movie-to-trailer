{
 "cells": [
  {
   "cell_type": "markdown",
   "metadata": {
    "id": "AvF0EJgjlDY6"
   },
   "source": [
    "#Load Cloud Drive"
   ]
  },
  {
   "cell_type": "code",
   "execution_count": null,
   "metadata": {
    "colab": {
     "base_uri": "https://localhost:8080/"
    },
    "executionInfo": {
     "elapsed": 387,
     "status": "ok",
     "timestamp": 1622571522180,
     "user": {
      "displayName": "wile do",
      "photoUrl": "",
      "userId": "16203456976195540490"
     },
     "user_tz": -120
    },
    "id": "3BFVCMVkNB-p",
    "outputId": "41ff460e-87ff-4aac-d4fd-fe965d2d4050"
   },
   "outputs": [
    {
     "name": "stdout",
     "output_type": "stream",
     "text": [
      "tmdb_metadata_2000_1000.csv  tmdb_metadata_2011_1000.csv\n",
      "tmdb_metadata_2001_1000.csv  tmdb_metadata_2012_1000.csv\n",
      "tmdb_metadata_2002_1000.csv  tmdb_metadata_2013_1000.csv\n",
      "tmdb_metadata_2003_1000.csv  tmdb_metadata_2014_1000.csv\n",
      "tmdb_metadata_2004_1000.csv  tmdb_metadata_2015_1000.csv\n",
      "tmdb_metadata_2005_1000.csv  tmdb_metadata_2016_1000.csv\n",
      "tmdb_metadata_2006_1000.csv  tmdb_metadata_2017_1000.csv\n",
      "tmdb_metadata_2007_1000.csv  tmdb_metadata_2018_1000.csv\n",
      "tmdb_metadata_2008_1000.csv  tmdb_metadata_2019_1000.csv\n",
      "tmdb_metadata_2009_1000.csv  tmdb_metadata_2020_1000.csv\n",
      "tmdb_metadata_2010_1000.csv\n"
     ]
    }
   ],
   "source": [
    "from google.colab import drive\n",
    "import os\n",
    "os.chdir('../data/Movie_Trailer_Dataset/21K_movie_record')\n",
    "!ls"
   ]
  },
  {
   "cell_type": "markdown",
   "metadata": {
    "id": "t93D_0j4l4r1"
   },
   "source": [
    "#TMDB"
   ]
  },
  {
   "cell_type": "code",
   "execution_count": null,
   "metadata": {
    "colab": {
     "base_uri": "https://localhost:8080/"
    },
    "executionInfo": {
     "elapsed": 3946,
     "status": "ok",
     "timestamp": 1622571467806,
     "user": {
      "displayName": "wile do",
      "photoUrl": "",
      "userId": "16203456976195540490"
     },
     "user_tz": -120
    },
    "id": "SbTrDJ55NRFg",
    "outputId": "dd24f0ea-efcd-429e-81c3-323805512c13"
   },
   "outputs": [
    {
     "name": "stdout",
     "output_type": "stream",
     "text": [
      "Collecting tmdbv3api\n",
      "  Downloading https://files.pythonhosted.org/packages/d9/e5/865501cd4746070930e542ae3ee574a1ffe29ccad7f273fb89440c32973e/tmdbv3api-1.7.5-py2.py3-none-any.whl\n",
      "Requirement already satisfied: requests in /usr/local/lib/python3.7/dist-packages (from tmdbv3api) (2.23.0)\n",
      "Requirement already satisfied: certifi>=2017.4.17 in /usr/local/lib/python3.7/dist-packages (from requests->tmdbv3api) (2020.12.5)\n",
      "Requirement already satisfied: urllib3!=1.25.0,!=1.25.1,<1.26,>=1.21.1 in /usr/local/lib/python3.7/dist-packages (from requests->tmdbv3api) (1.24.3)\n",
      "Requirement already satisfied: chardet<4,>=3.0.2 in /usr/local/lib/python3.7/dist-packages (from requests->tmdbv3api) (3.0.4)\n",
      "Requirement already satisfied: idna<3,>=2.5 in /usr/local/lib/python3.7/dist-packages (from requests->tmdbv3api) (2.10)\n",
      "Installing collected packages: tmdbv3api\n",
      "Successfully installed tmdbv3api-1.7.5\n"
     ]
    }
   ],
   "source": [
    "!pip install tmdbv3api"
   ]
  },
  {
   "cell_type": "code",
   "execution_count": null,
   "metadata": {
    "id": "g9hpL1Qw0Udv"
   },
   "outputs": [],
   "source": [
    "from tmdbv3api import TMDb\n",
    "from tmdbv3api import Movie,Discover,Genre,Keyword\n",
    "import csv\n",
    "import numpy as np\n",
    "import pandas\n",
    "\n",
    "\n",
    "API_V3_KEY = '55c9a195575d446d4c9271aa210bdd81'\n",
    "tmdb = TMDb()\n",
    "tmdb.api_key = API_V3_KEY\n",
    "tmdb.language = 'en'\n",
    "tmdb.debug = True\n",
    "genres_list = {\n",
    "    28:'Action',\n",
    "    12:'Adventure',\n",
    "    16:'Animation',\n",
    "    35:'Comedy',\n",
    "    80:'Crime',\n",
    "    99:'Documentary',\n",
    "    18:'Drama',\n",
    "    14:'Fantasy',\n",
    "    36:'History',\n",
    "    27:'Horror',\n",
    "    37:'Western',\n",
    "    53:'Thriller',\n",
    "    878:'Science Fiction',\n",
    "    10751:'Family',\n",
    "    10402:'Music',\n",
    "    9648:'Mystery',\n",
    "    10749:'Romance',\n",
    "    10770:'TV Movie',\n",
    "    10752:'War'\n",
    "}\n",
    "\n",
    "def get_genres_list():\n",
    "  genre = Genre()\n",
    "  genres = genre.movie_list()\n",
    "  genres_list = {}\n",
    "  for g in genres:\n",
    "    genres_list[g['id']] = g['name']\n",
    "  return genres_list\n",
    "\n",
    "def get_movie_information(m):\n",
    "  movie = Movie()\n",
    "  info = {'id' : None,\n",
    "          'title' : None,\n",
    "          'release_date' : None,\n",
    "          'genres': None,\n",
    "          'video_key':None,\n",
    "          'overview':None,\n",
    "          'trailer_url' : None,\n",
    "          'keywords' : None,\n",
    "          'popularity' : None,\n",
    "          'vote_count' : None,\n",
    "          'vote_average' : None\n",
    "          }\n",
    "  try:\n",
    "    info['id'] = m.id\n",
    "    info['title'] = m.title\n",
    "    info['release_date'] = m.release_date\n",
    "    info['popularity'] = m.popularity\n",
    "    info['vote_count'] = m.vote_count\n",
    "    info['vote_average'] = m.vote_average\n",
    "  except Exception as e:\n",
    "    print('Cannot find movie id is :',m.id)\n",
    "  try:\n",
    "    genres = []\n",
    "    ids = m.genre_ids\n",
    "    for id in ids:\n",
    "      genres.append(genres_list[id])\n",
    "    info['genres'] = genres\n",
    "  except Exception as e:\n",
    "    print('Cannot find movie genres for :', m.id)\n",
    "\n",
    "  try:\n",
    "    movie_keywords = movie.keywords(m.id)['keywords']\n",
    "    if movie_keywords is not None:\n",
    "      keyws = []\n",
    "      for keyw in movie_keywords:\n",
    "        keyws.append(keyw['name'])\n",
    "      info['keywords'] = keyws\n",
    "    else:\n",
    "      info['keywords'] = None\n",
    "\n",
    "  except Exception as e:\n",
    "    print('Cannot find keywords for :', m.id)\n",
    "  try:\n",
    "    info['overview'] = m.overview\n",
    "  except Exception as e:\n",
    "    info['overview'] = None\n",
    "\n",
    "  try:\n",
    "    trailer_keys = movie.videos(m.id)\n",
    "    if trailer_keys is not None:\n",
    "      for trailer_key in trailer_keys:\n",
    "        if trailer_key['type'] == 'Trailer':\n",
    "          if trailer_key['site'] == 'YouTube':\n",
    "            info['trailer_url'] = 'https://www.youtube.com/watch?v='+ trailer_key['key']\n",
    "            info['video_key'] = trailer_key['key']\n",
    "            break\n",
    "        else:\n",
    "          info['trailer_url'] = None\n",
    "    else:\n",
    "      info['trailer_url'] = None\n",
    "  except Exception as e:\n",
    "    print('Can not find trailer url for :', m.id)\n",
    "  return info\n",
    "\n",
    "\n",
    "def discover_movies(year, num):\n",
    "  meta_data =  [['id','title','release_date','genres','video_key','overview','trailer_url','keywords','popularity','vote_count','vote_average']]\n",
    "  for i in range(int(num/20)):\n",
    "    movie = Movie()\n",
    "    discover = Discover()\n",
    "    m_20 = discover.discover_movies({\n",
    "        'primary_release_date.gte': '{y}-01-01'.format(y = year),\n",
    "        'primary_release_date.lte': '{y}-12-31'.format(y = year),\n",
    "        'page': '{page}'.format(page = i + 1),\n",
    "        'sort_by':'vote_count.desc',\n",
    "        }\n",
    "    )\n",
    "    for m in m_20:\n",
    "      info = get_movie_information(m)\n",
    "      meta_data.append(info.values())\n",
    "  return meta_data\n",
    "\n",
    "  \n",
    "def save_meta_data(year,num):\n",
    "  print('Writing file to csv')\n",
    "  meta = discover_movies(year,num)\n",
    "  with open('tmdb_metadata_{y}_{n}.csv'.format(y = year,n = num),'w') as csvfile:\n",
    "    writer = csv.writer(csvfile)\n",
    "    writer.writerows(meta)\n",
    "  print('In {y}, total number:{n}'.format(y = year,n = num))\n",
    "\n"
   ]
  },
  {
   "cell_type": "markdown",
   "metadata": {
    "id": "Ufl1YwpplVRq"
   },
   "source": [
    "#Main"
   ]
  },
  {
   "cell_type": "code",
   "execution_count": null,
   "metadata": {
    "colab": {
     "base_uri": "https://localhost:8080/"
    },
    "executionInfo": {
     "elapsed": 3331455,
     "status": "ok",
     "timestamp": 1613651835079,
     "user": {
      "displayName": "wile do",
      "photoUrl": "",
      "userId": "16203456976195540490"
     },
     "user_tz": -60
    },
    "id": "PXmhY31OJqeL",
    "outputId": "ec7b43cc-91e9-425d-d8e1-619bfd0b0dc5"
   },
   "outputs": [
    {
     "name": "stdout",
     "output_type": "stream",
     "text": [
      "Writing file to csv\n",
      "In 2000, total number:1000\n",
      "Writing file to csv\n",
      "In 2001, total number:1000\n",
      "Writing file to csv\n",
      "In 2002, total number:1000\n",
      "Writing file to csv\n",
      "In 2003, total number:1000\n",
      "Writing file to csv\n",
      "Cannot find keywords for : 53721\n",
      "Can not find trailer url for : 53721\n",
      "In 2004, total number:1000\n",
      "Writing file to csv\n",
      "In 2005, total number:1000\n",
      "Writing file to csv\n",
      "In 2006, total number:1000\n",
      "Writing file to csv\n",
      "In 2007, total number:1000\n",
      "Writing file to csv\n",
      "In 2008, total number:1000\n",
      "Writing file to csv\n",
      "In 2009, total number:1000\n"
     ]
    }
   ],
   "source": [
    "#Based on the release date and sorted by popularity, 20 movies for each page (num has to be Multiples of 20 )\n",
    "def main(year_s,year_e,num):\n",
    "  for i in range(year_s,year_e + 1,1):\n",
    "    save_meta_data(i,num)\n",
    "main(2000,2009,1000)"
   ]
  }
 ],
 "metadata": {
  "colab": {
   "authorship_tag": "ABX9TyPUzIPVAro0lwBz6oopa02E",
   "collapsed_sections": [],
   "mount_file_id": "1dC6IKbX1DZgBFqtEQAUY785vGnrLxUzN",
   "name": "tmdb_metadata_downloader.ipynb",
   "provenance": [],
   "toc_visible": true
  },
  "kernelspec": {
   "display_name": "Python 3 (ipykernel)",
   "language": "python",
   "name": "python3"
  },
  "language_info": {
   "codemirror_mode": {
    "name": "ipython",
    "version": 3
   },
   "file_extension": ".py",
   "mimetype": "text/x-python",
   "name": "python",
   "nbconvert_exporter": "python",
   "pygments_lexer": "ipython3",
   "version": "3.9.21"
  }
 },
 "nbformat": 4,
 "nbformat_minor": 4
}
