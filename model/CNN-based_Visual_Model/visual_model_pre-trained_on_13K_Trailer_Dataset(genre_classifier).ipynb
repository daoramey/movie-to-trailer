{
 "cells": [
  {
   "cell_type": "code",
   "execution_count": null,
   "metadata": {
    "colab": {
     "base_uri": "https://localhost:8080/"
    },
    "executionInfo": {
     "elapsed": 19858,
     "status": "ok",
     "timestamp": 1615450748205,
     "user": {
      "displayName": "wile do",
      "photoUrl": "",
      "userId": "16203456976195540490"
     },
     "user_tz": -60
    },
    "id": "YewxuRGrLYR7",
    "outputId": "3d32722c-689c-4d1b-e590-38aaa6e61e54"
   },
   "outputs": [
    {
     "name": "stdout",
     "output_type": "stream",
     "text": [
      "Mounted at /content/drive\n"
     ]
    }
   ],
   "source": [
    "from google.colab import drive\n",
    "drive.mount('/content/drive')"
   ]
  },
  {
   "cell_type": "markdown",
   "metadata": {
    "id": "ljpsmT7TdaqR"
   },
   "source": [
    "#Multi-label movie genre classifier"
   ]
  },
  {
   "cell_type": "markdown",
   "metadata": {
    "id": "8cj0V8oZ7BoJ"
   },
   "source": [
    "##Load Training Dataset"
   ]
  },
  {
   "cell_type": "code",
   "execution_count": null,
   "metadata": {
    "id": "IGvzAqDq_2sf"
   },
   "outputs": [],
   "source": [
    "import h5py\n",
    "import numpy as np\n",
    "import os\n",
    "import tensorflow as tf\n",
    "def dataset(feature_path,annotation_path):\n",
    "  x = []\n",
    "  y = []\n",
    "  title = os.listdir(annotation_path)\n",
    "  for t in title:\n",
    "    x_path = os.path.join(feature_path,t)\n",
    "    x_feature = np.loadtxt(x_path)\n",
    "    x.append(x_feature)\n",
    "    y_path = os.path.join(annotation_path,t)\n",
    "    y_label = np.loadtxt(y_path)\n",
    "    y.append(y_label)\n",
    "  x = tf.convert_to_tensor(x, dtype=tf.float32)\n",
    "  y = tf.convert_to_tensor(y, dtype=tf.float32)\n",
    "  return x,y\n",
    "\n",
    "def save_dataset(x,y,data_path):\n",
    "  x_path = os.path.join(data_path, 'trainingdata_x.hdf5')\n",
    "  y_path = os.path.join(data_path, 'trainingdata_y.hdf5')\n",
    "  with h5py.File(x_path, 'w') as f1:\n",
    "    dset1 = f1.create_dataset(\"x\", data=x,dtype='float32')\n",
    "  f1.close()\n",
    "  with h5py.File(y_path, 'w') as f2:\n",
    "    dset2 = f2.create_dataset(\"y\", data=y,dtype='float32')\n",
    "  f2.close()\n",
    "\n",
    "def load_data_from_h5py(data_path):\n",
    "  x_path = os.path.join(data_path, 'trainingdata_x.hdf5')\n",
    "  y_path = os.path.join(data_path, 'trainingdata_y.hdf5')\n",
    "  f1 = h5py.File(x_path,'r')\n",
    "  x = np.array(f1[\"x\"][:])\n",
    "  f2 = h5py.File(y_path,'r')\n",
    "  y = np.array(f2[\"y\"][:])\n",
    "  x = tf.convert_to_tensor(x, dtype=tf.float32)\n",
    "  y = tf.convert_to_tensor(y, dtype=tf.float32)\n",
    "  return x,y"
   ]
  },
  {
   "cell_type": "code",
   "execution_count": null,
   "metadata": {
    "colab": {
     "base_uri": "https://localhost:8080/"
    },
    "executionInfo": {
     "elapsed": 24556,
     "status": "ok",
     "timestamp": 1615450778291,
     "user": {
      "displayName": "wile do",
      "photoUrl": "",
      "userId": "16203456976195540490"
     },
     "user_tz": -60
    },
    "id": "gVy7I-_yltjv",
    "outputId": "678e7c89-30d0-4853-9719-b24962e9c303"
   },
   "outputs": [
    {
     "name": "stdout",
     "output_type": "stream",
     "text": [
      "(13589, 25088)\n",
      "(13589, 19)\n"
     ]
    }
   ],
   "source": [
    "#feature_path = '/content/drive/MyDrive/ColabNotebooks/MT/Dataset/trailer_dataset/features'\n",
    "#annotation_path = '/content/drive/MyDrive/ColabNotebooks/MT/Dataset/trailer_dataset/genres'\n",
    "#x, y = dataset(feature_path,annotation_path)\n",
    "data_path = '../model/CNN-based_Visual_Model/Training_Dataset/13K_training_dataset(genre)'\n",
    "#save_dataset(x,y,data_path)\n",
    "x, y = load_data_from_h5py(data_path)\n",
    "print(x.shape)\n",
    "print(y.shape)"
   ]
  },
  {
   "cell_type": "markdown",
   "metadata": {
    "id": "UOzrEyzCdxjK"
   },
   "source": [
    "##Class Weights"
   ]
  },
  {
   "cell_type": "code",
   "execution_count": null,
   "metadata": {
    "colab": {
     "base_uri": "https://localhost:8080/"
    },
    "executionInfo": {
     "elapsed": 789,
     "status": "ok",
     "timestamp": 1615452512463,
     "user": {
      "displayName": "wile do",
      "photoUrl": "",
      "userId": "16203456976195540490"
     },
     "user_tz": -60
    },
    "id": "OsYctdjxiCfT",
    "outputId": "1e9e88dc-3f08-48c0-f004-ee0520b11c0b"
   },
   "outputs": [
    {
     "data": {
      "text/plain": [
       "{0: 2.493394495412844,\n",
       " 1: 4.5116201859229745,\n",
       " 2: 6.533173076923077,\n",
       " 3: 1.5830615097856477,\n",
       " 4: 4.449574328749182,\n",
       " 5: 8.99933774834437,\n",
       " 6: 1.0750791139240505,\n",
       " 7: 6.09372197309417,\n",
       " 8: 12.1983842010772,\n",
       " 9: 3.1602325581395347,\n",
       " 10: 65.96601941747574,\n",
       " 11: 1.9901874633860575,\n",
       " 12: 5.2507727975270475,\n",
       " 13: 5.448676824378508,\n",
       " 14: 15.512557077625571,\n",
       " 15: 6.70069033530572,\n",
       " 16: 3.244746895893028,\n",
       " 17: 18.26478494623656,\n",
       " 18: 19.524425287356323}"
      ]
     },
     "execution_count": 15,
     "metadata": {
      "tags": []
     },
     "output_type": "execute_result"
    }
   ],
   "source": [
    "import pandas as pd\n",
    "import numpy as np\n",
    "\n",
    "y_org = np.array(y)\n",
    "df_y = pd.DataFrame(y_org,columns=['Action','Adventure','Animation','Comedy','Crime','Documentary','Drama','Fantasy','History','Horror','Western','Thriller','ScienceFiction','Family','Music','Mystery','Romance','TVMovie','War'])\n",
    "df_y\n",
    "\n",
    "# Scaling by total/2 helps keep the loss to a similar magnitude.\n",
    "# The sum of the weights of all examples stays the same.\n",
    "#weight_for_0 = (1 / neg)*(total)/2.0 \n",
    "#weight_for_1 = (1 / pos)*(total)/2.0\n",
    "\n",
    "n_class = y_org.shape[1]\n",
    "class_weights = np.zeros((n_class,2))\n",
    "class_weights = {}\n",
    "neg = 0\n",
    "for i in range(n_class):\n",
    "        weights_n, weights_p = (y_org.shape[0]/(2*(y_org[:,i] == 0).sum())), (y_org.shape[0]/(2*(y_org[:,i] == 1).sum()))\n",
    "        neg = neg + weights_n\n",
    "        class_weights[i] = weights_p\n",
    "\n",
    "class_weights"
   ]
  },
  {
   "cell_type": "markdown",
   "metadata": {
    "id": "M7jcqtUkd93T"
   },
   "source": [
    "##Models"
   ]
  },
  {
   "cell_type": "code",
   "execution_count": null,
   "metadata": {
    "id": "NPdlWTHmjd_z"
   },
   "outputs": [],
   "source": [
    "import os\n",
    "import pandas as pd\n",
    "import numpy as np\n",
    "import tensorflow as tf\n",
    "from tensorflow.keras.layers import Input, Lambda, Dense, Flatten, Dropout, Conv2D, MaxPool2D\n",
    "from tensorflow.keras.models import Model, load_model\n",
    "from tensorflow.keras.models import Sequential\n",
    "import matplotlib.pyplot as plt\n",
    "from tensorflow import keras\n",
    "from keras.optimizers import Adam\n",
    "from keras.callbacks import ModelCheckpoint"
   ]
  },
  {
   "cell_type": "markdown",
   "metadata": {
    "id": "7CXhv_1Nmj5Q"
   },
   "source": [
    "###Classifier_1"
   ]
  },
  {
   "cell_type": "code",
   "execution_count": null,
   "metadata": {
    "colab": {
     "base_uri": "https://localhost:8080/"
    },
    "executionInfo": {
     "elapsed": 985,
     "status": "ok",
     "timestamp": 1615450833195,
     "user": {
      "displayName": "wile do",
      "photoUrl": "",
      "userId": "16203456976195540490"
     },
     "user_tz": -60
    },
    "id": "KXQUznGJ4mw5",
    "outputId": "36cc3a28-08e1-4358-a27d-acf9e695fbdd"
   },
   "outputs": [
    {
     "name": "stdout",
     "output_type": "stream",
     "text": [
      "Model: \"classifier_1\"\n",
      "_________________________________________________________________\n",
      "Layer (type)                 Output Shape              Param #   \n",
      "=================================================================\n",
      "dense (Dense)                (None, 4096)              102764544 \n",
      "_________________________________________________________________\n",
      "dense_1 (Dense)              (None, 4096)              16781312  \n",
      "_________________________________________________________________\n",
      "dense_2 (Dense)              (None, 19)                77843     \n",
      "=================================================================\n",
      "Total params: 119,623,699\n",
      "Trainable params: 119,623,699\n",
      "Non-trainable params: 0\n",
      "_________________________________________________________________\n"
     ]
    }
   ],
   "source": [
    "model_1 = Sequential(name='classifier_1')\n",
    "model_1.add(Input(shape=(25088,)))\n",
    "model_1.add(Dense(4096,activation='relu'))\n",
    "model_1.add(Dense(4096,activation='relu'))\n",
    "model_1.add(Dense(19,activation='sigmoid'))\n",
    "model_1.summary()"
   ]
  },
  {
   "cell_type": "code",
   "execution_count": null,
   "metadata": {
    "id": "EjUem_iymB9g"
   },
   "outputs": [],
   "source": [
    "metric = [\n",
    "           keras.metrics.AUC(name='auc'),\n",
    "           keras.metrics.Precision(name='precision'),\n",
    "           keras.metrics.Recall(name='recall'),\n",
    "           keras.metrics.TruePositives(name='tp'),\n",
    "           keras.metrics.TrueNegatives(name='tn'),\n",
    "           keras.metrics.FalsePositives(name='fp'),\n",
    "           keras.metrics.FalseNegatives(name='fn'),\n",
    "          keras.metrics.CategoricalAccuracy(name='accuracy'),\n",
    "]\n",
    "model_1.compile(loss='binary_crossentropy', optimizer= 'adam', metrics= ['accuracy'])\n",
    "result_1 = model_1.fit(x, y, batch_size=128, epochs=100, verbose=1, validation_split=0.3, class_weight=class_weights)"
   ]
  },
  {
   "cell_type": "code",
   "execution_count": null,
   "metadata": {
    "colab": {
     "base_uri": "https://localhost:8080/",
     "height": 295
    },
    "executionInfo": {
     "elapsed": 809,
     "status": "ok",
     "timestamp": 1615453115526,
     "user": {
      "displayName": "wile do",
      "photoUrl": "",
      "userId": "16203456976195540490"
     },
     "user_tz": -60
    },
    "id": "VCWSLVmn8JTt",
    "outputId": "98505208-3c7b-490b-9ba2-b9c45a3b002e"
   },
   "outputs": [
    {
     "data": {
      "image/png": "[encoded data removed]",
      "text/plain": [
       "<Figure size 432x288 with 1 Axes>"
      ]
     },
     "metadata": {
      "needs_background": "light",
      "tags": []
     },
     "output_type": "display_data"
    }
   ],
   "source": [
    "loss_1 = result_1.history['loss']\n",
    "epochs_1 = range(1, len(loss_1) + 1)\n",
    "plt.plot(epochs_1, loss_1, 'y', label='Training loss')\n",
    "\n",
    "val_loss_1 = result_1.history['val_loss']\n",
    "epochs_1 = range(1, len(loss_1) + 1)\n",
    "plt.plot(epochs_1, val_loss_1, 'y--', label='Training loss')\n",
    "\n",
    "plt.title('Training loss')\n",
    "plt.xlabel('Epochs')\n",
    "plt.ylabel('Loss')\n",
    "plt.legend()\n",
    "plt.show()"
   ]
  },
  {
   "cell_type": "code",
   "execution_count": null,
   "metadata": {
    "colab": {
     "base_uri": "https://localhost:8080/",
     "height": 295
    },
    "executionInfo": {
     "elapsed": 1097,
     "status": "ok",
     "timestamp": 1615453119318,
     "user": {
      "displayName": "wile do",
      "photoUrl": "",
      "userId": "16203456976195540490"
     },
     "user_tz": -60
    },
    "id": "GqQxRFf48TuV",
    "outputId": "2ceccb7b-daa8-44c6-d3a1-b65f143eeff0"
   },
   "outputs": [
    {
     "data": {
      "image/png": "[encoded data removed]",
      "text/plain": [
       "<Figure size 432x288 with 1 Axes>"
      ]
     },
     "metadata": {
      "needs_background": "light",
      "tags": []
     },
     "output_type": "display_data"
    }
   ],
   "source": [
    "acc_1 = result_1.history['accuracy']\n",
    "plt.plot(epochs_1, acc_1, 'y', label='Training acc')\n",
    "val_acc_1 = result_1.history['val_accuracy']\n",
    "plt.plot(epochs_1, val_acc_1, 'y--', label='validation Training acc')\n",
    "plt.title('Training accuracy')\n",
    "plt.xlabel('Epochs')\n",
    "plt.ylabel('Accuracy')\n",
    "plt.legend()\n",
    "plt.show()"
   ]
  },
  {
   "cell_type": "markdown",
   "metadata": {
    "id": "HcRwUQXj6c37"
   },
   "source": [
    "###Classifier_2"
   ]
  },
  {
   "cell_type": "code",
   "execution_count": null,
   "metadata": {
    "colab": {
     "base_uri": "https://localhost:8080/"
    },
    "executionInfo": {
     "elapsed": 966,
     "status": "ok",
     "timestamp": 1615453162605,
     "user": {
      "displayName": "wile do",
      "photoUrl": "",
      "userId": "16203456976195540490"
     },
     "user_tz": -60
    },
    "id": "RP9cXPfH6gIp",
    "outputId": "f10d4a72-001a-4caa-f79b-47774e42a80f"
   },
   "outputs": [
    {
     "name": "stdout",
     "output_type": "stream",
     "text": [
      "Model: \"classifier_2\"\n",
      "_________________________________________________________________\n",
      "Layer (type)                 Output Shape              Param #   \n",
      "=================================================================\n",
      "dense_7 (Dense)              (None, 4096)              102764544 \n",
      "_________________________________________________________________\n",
      "dense_8 (Dense)              (None, 19)                77843     \n",
      "=================================================================\n",
      "Total params: 102,842,387\n",
      "Trainable params: 102,842,387\n",
      "Non-trainable params: 0\n",
      "_________________________________________________________________\n"
     ]
    }
   ],
   "source": [
    "model_2 = Sequential(name='classifier_2')\n",
    "model_2.add(Input(shape=(25088,)))\n",
    "model_2.add(Dense(4096,activation='relu'))\n",
    "model_2.add(Dense(19,activation='sigmoid'))\n",
    "model_2.summary()"
   ]
  },
  {
   "cell_type": "code",
   "execution_count": null,
   "metadata": {
    "colab": {
     "base_uri": "https://localhost:8080/"
    },
    "executionInfo": {
     "elapsed": 486134,
     "status": "ok",
     "timestamp": 1615453651763,
     "user": {
      "displayName": "wile do",
      "photoUrl": "",
      "userId": "16203456976195540490"
     },
     "user_tz": -60
    },
    "id": "bc5THCyv6s3D",
    "outputId": "f6f1d749-dff4-4f11-b421-a148530d9ceb"
   },
   "outputs": [
    {
     "name": "stdout",
     "output_type": "stream",
     "text": [
      "Epoch 1/100\n",
      "75/75 [==============================] - 6s 71ms/step - loss: 46.0382 - accuracy: 0.1929 - val_loss: 0.3743 - val_accuracy: 0.3942\n",
      "Epoch 2/100\n",
      "75/75 [==============================] - 5s 64ms/step - loss: 0.8446 - accuracy: 0.3595 - val_loss: 0.2882 - val_accuracy: 0.3485\n",
      "Epoch 3/100\n",
      "75/75 [==============================] - 5s 64ms/step - loss: 0.6655 - accuracy: 0.4294 - val_loss: 0.2541 - val_accuracy: 0.4364\n",
      "Epoch 4/100\n",
      "75/75 [==============================] - 5s 64ms/step - loss: 0.5697 - accuracy: 0.4564 - val_loss: 0.2722 - val_accuracy: 0.3826\n",
      "Epoch 5/100\n",
      "75/75 [==============================] - 5s 64ms/step - loss: 0.5359 - accuracy: 0.4655 - val_loss: 0.2630 - val_accuracy: 0.4437\n",
      "Epoch 6/100\n",
      "75/75 [==============================] - 5s 65ms/step - loss: 0.4753 - accuracy: 0.4738 - val_loss: 0.2551 - val_accuracy: 0.4312\n",
      "Epoch 7/100\n",
      "75/75 [==============================] - 5s 65ms/step - loss: 0.4349 - accuracy: 0.5064 - val_loss: 0.2836 - val_accuracy: 0.4489\n",
      "Epoch 8/100\n",
      "75/75 [==============================] - 5s 65ms/step - loss: 0.4192 - accuracy: 0.5091 - val_loss: 0.2635 - val_accuracy: 0.4140\n",
      "Epoch 9/100\n",
      "75/75 [==============================] - 5s 65ms/step - loss: 0.3921 - accuracy: 0.5199 - val_loss: 0.2609 - val_accuracy: 0.4410\n",
      "Epoch 10/100\n",
      "75/75 [==============================] - 5s 65ms/step - loss: 0.3555 - accuracy: 0.5439 - val_loss: 0.2745 - val_accuracy: 0.3645\n",
      "Epoch 11/100\n",
      "75/75 [==============================] - 5s 64ms/step - loss: 0.3378 - accuracy: 0.5315 - val_loss: 0.2569 - val_accuracy: 0.4790\n",
      "Epoch 12/100\n",
      "75/75 [==============================] - 5s 64ms/step - loss: 0.3029 - accuracy: 0.5717 - val_loss: 0.3062 - val_accuracy: 0.3235\n",
      "Epoch 13/100\n",
      "75/75 [==============================] - 5s 65ms/step - loss: 0.3005 - accuracy: 0.5345 - val_loss: 0.2709 - val_accuracy: 0.4623\n",
      "Epoch 14/100\n",
      "75/75 [==============================] - 5s 65ms/step - loss: 0.2711 - accuracy: 0.5538 - val_loss: 0.2842 - val_accuracy: 0.4523\n",
      "Epoch 15/100\n",
      "75/75 [==============================] - 5s 64ms/step - loss: 0.2585 - accuracy: 0.5486 - val_loss: 0.2863 - val_accuracy: 0.4682\n",
      "Epoch 16/100\n",
      "75/75 [==============================] - 5s 65ms/step - loss: 0.2397 - accuracy: 0.5659 - val_loss: 0.2846 - val_accuracy: 0.4381\n",
      "Epoch 17/100\n",
      "75/75 [==============================] - 5s 64ms/step - loss: 0.2160 - accuracy: 0.5710 - val_loss: 0.2947 - val_accuracy: 0.3780\n",
      "Epoch 18/100\n",
      "75/75 [==============================] - 5s 64ms/step - loss: 0.2120 - accuracy: 0.5534 - val_loss: 0.2854 - val_accuracy: 0.4874\n",
      "Epoch 19/100\n",
      "75/75 [==============================] - 5s 64ms/step - loss: 0.1997 - accuracy: 0.5688 - val_loss: 0.3001 - val_accuracy: 0.4204\n",
      "Epoch 20/100\n",
      "75/75 [==============================] - 5s 64ms/step - loss: 0.1834 - accuracy: 0.5741 - val_loss: 0.3126 - val_accuracy: 0.4471\n",
      "Epoch 21/100\n",
      "75/75 [==============================] - 5s 65ms/step - loss: 0.1734 - accuracy: 0.5845 - val_loss: 0.3216 - val_accuracy: 0.4275\n",
      "Epoch 22/100\n",
      "75/75 [==============================] - 5s 65ms/step - loss: 0.1705 - accuracy: 0.5609 - val_loss: 0.3329 - val_accuracy: 0.3910\n",
      "Epoch 23/100\n",
      "75/75 [==============================] - 5s 65ms/step - loss: 0.1631 - accuracy: 0.5747 - val_loss: 0.3128 - val_accuracy: 0.4810\n",
      "Epoch 24/100\n",
      "75/75 [==============================] - 5s 64ms/step - loss: 0.1475 - accuracy: 0.5793 - val_loss: 0.3535 - val_accuracy: 0.4871\n",
      "Epoch 25/100\n",
      "75/75 [==============================] - 5s 64ms/step - loss: 0.1541 - accuracy: 0.5820 - val_loss: 0.3333 - val_accuracy: 0.4677\n",
      "Epoch 26/100\n",
      "75/75 [==============================] - 5s 64ms/step - loss: 0.1443 - accuracy: 0.5859 - val_loss: 0.3661 - val_accuracy: 0.4045\n",
      "Epoch 27/100\n",
      "75/75 [==============================] - 5s 65ms/step - loss: 0.1394 - accuracy: 0.5657 - val_loss: 0.3748 - val_accuracy: 0.4454\n",
      "Epoch 28/100\n",
      "75/75 [==============================] - 5s 64ms/step - loss: 0.1478 - accuracy: 0.5703 - val_loss: 0.3646 - val_accuracy: 0.4194\n",
      "Epoch 29/100\n",
      "75/75 [==============================] - 5s 64ms/step - loss: 0.1080 - accuracy: 0.5891 - val_loss: 0.3695 - val_accuracy: 0.4157\n",
      "Epoch 30/100\n",
      "75/75 [==============================] - 5s 65ms/step - loss: 0.0868 - accuracy: 0.5917 - val_loss: 0.3523 - val_accuracy: 0.4520\n",
      "Epoch 31/100\n",
      "75/75 [==============================] - 5s 65ms/step - loss: 0.0722 - accuracy: 0.5936 - val_loss: 0.3767 - val_accuracy: 0.4822\n",
      "Epoch 32/100\n",
      "75/75 [==============================] - 5s 64ms/step - loss: 0.0752 - accuracy: 0.5928 - val_loss: 0.3668 - val_accuracy: 0.4449\n",
      "Epoch 33/100\n",
      "75/75 [==============================] - 5s 65ms/step - loss: 0.0623 - accuracy: 0.5966 - val_loss: 0.3957 - val_accuracy: 0.4130\n",
      "Epoch 34/100\n",
      "75/75 [==============================] - 5s 64ms/step - loss: 0.1299 - accuracy: 0.5562 - val_loss: 0.4984 - val_accuracy: 0.3103\n",
      "Epoch 35/100\n",
      "75/75 [==============================] - 5s 64ms/step - loss: 0.4049 - accuracy: 0.5077 - val_loss: 0.3793 - val_accuracy: 0.4023\n",
      "Epoch 36/100\n",
      "75/75 [==============================] - 5s 65ms/step - loss: 0.2447 - accuracy: 0.5580 - val_loss: 0.3973 - val_accuracy: 0.4702\n",
      "Epoch 37/100\n",
      "75/75 [==============================] - 5s 65ms/step - loss: 0.1342 - accuracy: 0.5813 - val_loss: 0.3918 - val_accuracy: 0.4560\n",
      "Epoch 38/100\n",
      "75/75 [==============================] - 5s 65ms/step - loss: 0.1225 - accuracy: 0.5873 - val_loss: 0.3641 - val_accuracy: 0.4780\n",
      "Epoch 39/100\n",
      "75/75 [==============================] - 5s 64ms/step - loss: 0.0886 - accuracy: 0.6029 - val_loss: 0.3756 - val_accuracy: 0.4290\n",
      "Epoch 40/100\n",
      "75/75 [==============================] - 5s 65ms/step - loss: 0.1002 - accuracy: 0.5786 - val_loss: 0.3641 - val_accuracy: 0.4717\n",
      "Epoch 41/100\n",
      "75/75 [==============================] - 5s 65ms/step - loss: 0.0534 - accuracy: 0.5988 - val_loss: 0.3971 - val_accuracy: 0.4653\n",
      "Epoch 42/100\n",
      "75/75 [==============================] - 5s 64ms/step - loss: 0.0755 - accuracy: 0.5778 - val_loss: 0.4266 - val_accuracy: 0.4202\n",
      "Epoch 43/100\n",
      "75/75 [==============================] - 5s 64ms/step - loss: 0.0648 - accuracy: 0.5856 - val_loss: 0.3844 - val_accuracy: 0.4493\n",
      "Epoch 44/100\n",
      "75/75 [==============================] - 5s 64ms/step - loss: 0.0423 - accuracy: 0.5917 - val_loss: 0.4133 - val_accuracy: 0.4709\n",
      "Epoch 45/100\n",
      "75/75 [==============================] - 5s 65ms/step - loss: 0.0355 - accuracy: 0.6017 - val_loss: 0.4000 - val_accuracy: 0.4756\n",
      "Epoch 46/100\n",
      "75/75 [==============================] - 5s 65ms/step - loss: 0.0269 - accuracy: 0.5934 - val_loss: 0.4130 - val_accuracy: 0.4481\n",
      "Epoch 47/100\n",
      "75/75 [==============================] - 5s 66ms/step - loss: 0.0236 - accuracy: 0.5804 - val_loss: 0.4218 - val_accuracy: 0.4631\n",
      "Epoch 48/100\n",
      "75/75 [==============================] - 5s 64ms/step - loss: 0.0224 - accuracy: 0.5901 - val_loss: 0.4258 - val_accuracy: 0.4663\n",
      "Epoch 49/100\n",
      "75/75 [==============================] - 5s 65ms/step - loss: 0.0192 - accuracy: 0.5925 - val_loss: 0.5071 - val_accuracy: 0.3743\n",
      "Epoch 50/100\n",
      "75/75 [==============================] - 5s 65ms/step - loss: 0.2116 - accuracy: 0.5412 - val_loss: 0.4006 - val_accuracy: 0.4153\n",
      "Epoch 51/100\n",
      "75/75 [==============================] - 5s 64ms/step - loss: 0.3741 - accuracy: 0.5367 - val_loss: 0.4109 - val_accuracy: 0.3473\n",
      "Epoch 52/100\n",
      "75/75 [==============================] - 5s 65ms/step - loss: 0.2463 - accuracy: 0.5569 - val_loss: 0.3910 - val_accuracy: 0.4805\n",
      "Epoch 53/100\n",
      "75/75 [==============================] - 5s 64ms/step - loss: 0.1507 - accuracy: 0.6001 - val_loss: 0.3693 - val_accuracy: 0.4570\n",
      "Epoch 54/100\n",
      "75/75 [==============================] - 5s 65ms/step - loss: 0.0955 - accuracy: 0.6070 - val_loss: 0.3684 - val_accuracy: 0.4592\n",
      "Epoch 55/100\n",
      "75/75 [==============================] - 5s 64ms/step - loss: 0.0857 - accuracy: 0.6017 - val_loss: 0.3862 - val_accuracy: 0.4238\n",
      "Epoch 56/100\n",
      "75/75 [==============================] - 5s 64ms/step - loss: 0.0684 - accuracy: 0.5951 - val_loss: 0.4017 - val_accuracy: 0.4525\n",
      "Epoch 57/100\n",
      "75/75 [==============================] - 5s 65ms/step - loss: 0.0514 - accuracy: 0.6008 - val_loss: 0.4063 - val_accuracy: 0.4685\n",
      "Epoch 58/100\n",
      "75/75 [==============================] - 5s 65ms/step - loss: 0.0830 - accuracy: 0.5756 - val_loss: 0.4095 - val_accuracy: 0.4793\n",
      "Epoch 59/100\n",
      "75/75 [==============================] - 5s 65ms/step - loss: 0.0446 - accuracy: 0.5923 - val_loss: 0.4126 - val_accuracy: 0.4562\n",
      "Epoch 60/100\n",
      "75/75 [==============================] - 5s 65ms/step - loss: 0.0295 - accuracy: 0.6009 - val_loss: 0.4760 - val_accuracy: 0.4204\n",
      "Epoch 61/100\n",
      "75/75 [==============================] - 5s 64ms/step - loss: 0.1836 - accuracy: 0.5549 - val_loss: 0.4597 - val_accuracy: 0.4498\n",
      "Epoch 62/100\n",
      "75/75 [==============================] - 5s 64ms/step - loss: 0.1799 - accuracy: 0.5952 - val_loss: 0.4513 - val_accuracy: 0.4094\n",
      "Epoch 63/100\n",
      "75/75 [==============================] - 5s 64ms/step - loss: 0.1147 - accuracy: 0.5845 - val_loss: 0.4406 - val_accuracy: 0.4346\n",
      "Epoch 64/100\n",
      "75/75 [==============================] - 5s 64ms/step - loss: 0.0909 - accuracy: 0.5954 - val_loss: 0.4210 - val_accuracy: 0.4270\n",
      "Epoch 65/100\n",
      "75/75 [==============================] - 5s 64ms/step - loss: 0.0593 - accuracy: 0.5959 - val_loss: 0.4333 - val_accuracy: 0.4638\n",
      "Epoch 66/100\n",
      "75/75 [==============================] - 5s 64ms/step - loss: 0.0285 - accuracy: 0.6030 - val_loss: 0.4406 - val_accuracy: 0.4501\n",
      "Epoch 67/100\n",
      "75/75 [==============================] - 5s 64ms/step - loss: 0.0232 - accuracy: 0.6112 - val_loss: 0.4523 - val_accuracy: 0.4572\n",
      "Epoch 68/100\n",
      "75/75 [==============================] - 5s 64ms/step - loss: 0.0193 - accuracy: 0.6041 - val_loss: 0.4475 - val_accuracy: 0.4619\n",
      "Epoch 69/100\n",
      "75/75 [==============================] - 5s 66ms/step - loss: 0.0163 - accuracy: 0.6046 - val_loss: 0.4646 - val_accuracy: 0.4464\n",
      "Epoch 70/100\n",
      "75/75 [==============================] - 5s 65ms/step - loss: 0.0147 - accuracy: 0.5932 - val_loss: 0.4693 - val_accuracy: 0.4712\n",
      "Epoch 71/100\n",
      "75/75 [==============================] - 5s 65ms/step - loss: 0.0120 - accuracy: 0.6009 - val_loss: 0.4761 - val_accuracy: 0.4628\n",
      "Epoch 72/100\n",
      "75/75 [==============================] - 5s 65ms/step - loss: 0.0107 - accuracy: 0.6001 - val_loss: 0.4793 - val_accuracy: 0.4489\n",
      "Epoch 73/100\n",
      "75/75 [==============================] - 5s 64ms/step - loss: 0.0093 - accuracy: 0.6097 - val_loss: 0.4939 - val_accuracy: 0.4467\n",
      "Epoch 74/100\n",
      "75/75 [==============================] - 5s 65ms/step - loss: 0.0088 - accuracy: 0.6034 - val_loss: 0.4937 - val_accuracy: 0.4516\n",
      "Epoch 75/100\n",
      "75/75 [==============================] - 5s 65ms/step - loss: 0.0102 - accuracy: 0.5994 - val_loss: 0.5089 - val_accuracy: 0.4619\n",
      "Epoch 76/100\n",
      "75/75 [==============================] - 5s 64ms/step - loss: 0.0087 - accuracy: 0.6041 - val_loss: 0.5041 - val_accuracy: 0.4584\n",
      "Epoch 77/100\n",
      "75/75 [==============================] - 5s 64ms/step - loss: 0.0088 - accuracy: 0.6017 - val_loss: 0.5184 - val_accuracy: 0.4577\n",
      "Epoch 78/100\n",
      "75/75 [==============================] - 5s 64ms/step - loss: 0.0063 - accuracy: 0.6030 - val_loss: 0.5201 - val_accuracy: 0.4511\n",
      "Epoch 79/100\n",
      "75/75 [==============================] - 5s 64ms/step - loss: 0.0071 - accuracy: 0.6025 - val_loss: 0.5340 - val_accuracy: 0.4484\n",
      "Epoch 80/100\n",
      "75/75 [==============================] - 5s 64ms/step - loss: 0.0054 - accuracy: 0.6015 - val_loss: 0.5322 - val_accuracy: 0.4611\n",
      "Epoch 81/100\n",
      "75/75 [==============================] - 5s 65ms/step - loss: 0.0046 - accuracy: 0.5977 - val_loss: 0.5383 - val_accuracy: 0.4523\n",
      "Epoch 82/100\n",
      "75/75 [==============================] - 5s 64ms/step - loss: 0.0056 - accuracy: 0.6160 - val_loss: 0.5489 - val_accuracy: 0.4329\n",
      "Epoch 83/100\n",
      "75/75 [==============================] - 5s 64ms/step - loss: 1.6225 - accuracy: 0.3967 - val_loss: 0.3135 - val_accuracy: 0.3765\n",
      "Epoch 84/100\n",
      "75/75 [==============================] - 5s 64ms/step - loss: 0.5961 - accuracy: 0.4294 - val_loss: 0.3300 - val_accuracy: 0.3701\n",
      "Epoch 85/100\n",
      "75/75 [==============================] - 5s 64ms/step - loss: 0.5256 - accuracy: 0.4659 - val_loss: 0.2738 - val_accuracy: 0.4305\n",
      "Epoch 86/100\n",
      "75/75 [==============================] - 5s 64ms/step - loss: 0.4558 - accuracy: 0.4958 - val_loss: 0.2825 - val_accuracy: 0.3790\n",
      "Epoch 87/100\n",
      "75/75 [==============================] - 5s 65ms/step - loss: 0.4222 - accuracy: 0.5168 - val_loss: 0.2926 - val_accuracy: 0.3490\n",
      "Epoch 88/100\n",
      "75/75 [==============================] - 5s 64ms/step - loss: 0.3966 - accuracy: 0.5214 - val_loss: 0.2865 - val_accuracy: 0.3660\n",
      "Epoch 89/100\n",
      "75/75 [==============================] - 5s 65ms/step - loss: 0.3803 - accuracy: 0.5393 - val_loss: 0.2893 - val_accuracy: 0.4493\n",
      "Epoch 90/100\n",
      "75/75 [==============================] - 5s 65ms/step - loss: 0.3590 - accuracy: 0.5548 - val_loss: 0.2941 - val_accuracy: 0.4594\n",
      "Epoch 91/100\n",
      "75/75 [==============================] - 5s 65ms/step - loss: 0.3216 - accuracy: 0.5666 - val_loss: 0.2880 - val_accuracy: 0.4219\n",
      "Epoch 92/100\n",
      "75/75 [==============================] - 5s 64ms/step - loss: 0.3351 - accuracy: 0.5642 - val_loss: 0.3039 - val_accuracy: 0.4707\n",
      "Epoch 93/100\n",
      "75/75 [==============================] - 5s 65ms/step - loss: 0.3107 - accuracy: 0.5785 - val_loss: 0.3034 - val_accuracy: 0.4341\n",
      "Epoch 94/100\n",
      "75/75 [==============================] - 5s 65ms/step - loss: 0.2955 - accuracy: 0.5822 - val_loss: 0.3065 - val_accuracy: 0.4621\n",
      "Epoch 95/100\n",
      "75/75 [==============================] - 5s 65ms/step - loss: 0.2838 - accuracy: 0.5933 - val_loss: 0.3056 - val_accuracy: 0.4523\n",
      "Epoch 96/100\n",
      "75/75 [==============================] - 5s 65ms/step - loss: 0.2636 - accuracy: 0.6005 - val_loss: 0.3040 - val_accuracy: 0.4663\n",
      "Epoch 97/100\n",
      "75/75 [==============================] - 5s 65ms/step - loss: 0.2541 - accuracy: 0.5992 - val_loss: 0.3303 - val_accuracy: 0.4579\n",
      "Epoch 98/100\n",
      "75/75 [==============================] - 5s 64ms/step - loss: 0.2642 - accuracy: 0.6047 - val_loss: 0.3222 - val_accuracy: 0.4386\n",
      "Epoch 99/100\n",
      "75/75 [==============================] - 5s 65ms/step - loss: 0.2372 - accuracy: 0.5998 - val_loss: 0.3318 - val_accuracy: 0.4697\n",
      "Epoch 100/100\n",
      "75/75 [==============================] - 5s 64ms/step - loss: 0.2222 - accuracy: 0.6192 - val_loss: 0.3334 - val_accuracy: 0.4508\n"
     ]
    }
   ],
   "source": [
    "metric = [\n",
    "           keras.metrics.AUC(name='auc'),\n",
    "           keras.metrics.Precision(name='precision'),\n",
    "           keras.metrics.Recall(name='recall'),\n",
    "           keras.metrics.TruePositives(name='tp'),\n",
    "           keras.metrics.TrueNegatives(name='tn'),\n",
    "           keras.metrics.FalsePositives(name='fp'),\n",
    "           keras.metrics.FalseNegatives(name='fn'),\n",
    "          keras.metrics.CategoricalAccuracy(name='accuracy'),\n",
    "]\n",
    "model_2.compile(loss='binary_crossentropy', optimizer= 'adam', metrics= ['accuracy'])\n",
    "result_2 = model_2.fit(x, y, batch_size=128, epochs=100, verbose=1, validation_split=0.3, class_weight=class_weights)"
   ]
  },
  {
   "cell_type": "code",
   "execution_count": null,
   "metadata": {
    "colab": {
     "base_uri": "https://localhost:8080/",
     "height": 295
    },
    "executionInfo": {
     "elapsed": 893,
     "status": "ok",
     "timestamp": 1615453813136,
     "user": {
      "displayName": "wile do",
      "photoUrl": "",
      "userId": "16203456976195540490"
     },
     "user_tz": -60
    },
    "id": "uqpAz_k86zQH",
    "outputId": "a6cabf7f-0720-44d2-d69c-dd65efd760e7"
   },
   "outputs": [
    {
     "data": {
      "image/png": "[encoded data removed]",
      "text/plain": [
       "<Figure size 432x288 with 1 Axes>"
      ]
     },
     "metadata": {
      "needs_background": "light",
      "tags": []
     },
     "output_type": "display_data"
    }
   ],
   "source": [
    "loss_2 = result_2.history['loss']\n",
    "epochs_2 = range(1, len(loss_2) + 1)\n",
    "plt.plot(epochs_2, loss_2, 'y', label='Training loss')\n",
    "\n",
    "val_loss_2 = result_2.history['val_loss']\n",
    "val_epochs_2 = range(1, len(val_loss_2) + 1)\n",
    "plt.plot(epochs_2, val_loss_2, 'y', label='Training loss')\n",
    "\n",
    "\n",
    "plt.title('Training loss')\n",
    "plt.xlabel('Epochs')\n",
    "plt.ylabel('Loss')\n",
    "plt.legend()\n",
    "plt.show()"
   ]
  },
  {
   "cell_type": "code",
   "execution_count": null,
   "metadata": {
    "colab": {
     "base_uri": "https://localhost:8080/",
     "height": 295
    },
    "executionInfo": {
     "elapsed": 1191,
     "status": "ok",
     "timestamp": 1615453816128,
     "user": {
      "displayName": "wile do",
      "photoUrl": "",
      "userId": "16203456976195540490"
     },
     "user_tz": -60
    },
    "id": "KKbqDu1f64wo",
    "outputId": "ae745495-6c32-4bb5-e435-a719bee87c16"
   },
   "outputs": [
    {
     "data": {
      "image/png": "[encoded data removed]",
      "text/plain": [
       "<Figure size 432x288 with 1 Axes>"
      ]
     },
     "metadata": {
      "needs_background": "light",
      "tags": []
     },
     "output_type": "display_data"
    }
   ],
   "source": [
    "acc_2 = result_2.history['accuracy']\n",
    "plt.plot(epochs_2, acc_2, 'y', label='Training acc')\n",
    "\n",
    "val_acc_2 = result_2.history['val_accuracy']\n",
    "plt.plot(val_epochs_2, val_acc_2, 'y', label='Training acc')\n",
    "\n",
    "\n",
    "plt.title('Training accuracy')\n",
    "plt.xlabel('Epochs')\n",
    "plt.ylabel('Accuracy')\n",
    "plt.legend()\n",
    "plt.show()"
   ]
  },
  {
   "cell_type": "markdown",
   "metadata": {
    "id": "5n7qpSN16-RB"
   },
   "source": [
    "###Classifier_3"
   ]
  },
  {
   "cell_type": "code",
   "execution_count": null,
   "metadata": {
    "colab": {
     "base_uri": "https://localhost:8080/"
    },
    "executionInfo": {
     "elapsed": 673,
     "status": "ok",
     "timestamp": 1615453887703,
     "user": {
      "displayName": "wile do",
      "photoUrl": "",
      "userId": "16203456976195540490"
     },
     "user_tz": -60
    },
    "id": "Ilq_5sSV7Bn-",
    "outputId": "17ec876e-a8b6-4ee2-d56e-6e289e41c74b"
   },
   "outputs": [
    {
     "name": "stdout",
     "output_type": "stream",
     "text": [
      "Model: \"classifier_3\"\n",
      "_________________________________________________________________\n",
      "Layer (type)                 Output Shape              Param #   \n",
      "=================================================================\n",
      "dense_14 (Dense)             (None, 4096)              102764544 \n",
      "_________________________________________________________________\n",
      "dense_15 (Dense)             (None, 4096)              16781312  \n",
      "_________________________________________________________________\n",
      "dropout_3 (Dropout)          (None, 4096)              0         \n",
      "_________________________________________________________________\n",
      "dense_16 (Dense)             (None, 1024)              4195328   \n",
      "_________________________________________________________________\n",
      "dropout_4 (Dropout)          (None, 1024)              0         \n",
      "_________________________________________________________________\n",
      "dense_17 (Dense)             (None, 1024)              1049600   \n",
      "_________________________________________________________________\n",
      "dropout_5 (Dropout)          (None, 1024)              0         \n",
      "_________________________________________________________________\n",
      "dense_18 (Dense)             (None, 19)                19475     \n",
      "=================================================================\n",
      "Total params: 124,810,259\n",
      "Trainable params: 124,810,259\n",
      "Non-trainable params: 0\n",
      "_________________________________________________________________\n"
     ]
    }
   ],
   "source": [
    "model_3 = Sequential(name='classifier_3')\n",
    "model_3.add(Input(shape=(25088,)))\n",
    "model_3.add(Dense(4096,activation='relu'))\n",
    "model_3.add(Dense(4096,activation='relu'))\n",
    "model_3.add(Dense(1024,activation='relu'))\n",
    "model_3.add(Dense(1024,activation='relu'))\n",
    "model_3.add(Dense(19,activation='sigmoid'))\n",
    "model_3.summary()"
   ]
  },
  {
   "cell_type": "code",
   "execution_count": null,
   "metadata": {
    "id": "_UKSoWc97YDC"
   },
   "outputs": [],
   "source": [
    "metric = [\n",
    "           keras.metrics.AUC(name='auc'),\n",
    "           keras.metrics.Precision(name='precision'),\n",
    "           keras.metrics.Recall(name='recall'),\n",
    "           keras.metrics.TruePositives(name='tp'),\n",
    "           keras.metrics.TrueNegatives(name='tn'),\n",
    "           keras.metrics.FalsePositives(name='fp'),\n",
    "           keras.metrics.FalseNegatives(name='fn'),\n",
    "          keras.metrics.CategoricalAccuracy(name='accuracy'),\n",
    "]\n",
    "model_3.compile(loss='binary_crossentropy', optimizer= 'adam', metrics= ['accuracy'])\n",
    "result_3 = model_3.fit(x, y, batch_size=128, epochs=100, verbose=1, validation_split=0.3, class_weight=class_weights)"
   ]
  },
  {
   "cell_type": "code",
   "execution_count": null,
   "metadata": {
    "id": "BBVyPznM7fjy"
   },
   "outputs": [],
   "source": [
    "loss_3 = result_3.history['loss']\n",
    "epochs_3 = range(1, len(loss_3) + 1)\n",
    "plt.plot(epochs_3, loss_3, 'y', label='Training loss')\n",
    "\n",
    "val_loss_3 = result_3.history['val_loss']\n",
    "val_epochs_3 = range(1, len(val_loss_3) + 1)\n",
    "plt.plot(epochs_3, val_loss_3, 'y', label='Training loss')\n",
    "\n",
    "plt.title('Training loss')\n",
    "plt.xlabel('Epochs')\n",
    "plt.ylabel('Loss')\n",
    "plt.legend()\n",
    "plt.show()"
   ]
  },
  {
   "cell_type": "code",
   "execution_count": null,
   "metadata": {
    "id": "l4MtEDhJ7pvZ"
   },
   "outputs": [],
   "source": [
    "acc_3 = result_3.history['accuracy']\n",
    "plt.plot(epochs_3, acc_3, 'y', label='Training acc')\n",
    "\n",
    "\n",
    "val_acc_3 = result_3.history['val_accuracy']\n",
    "plt.plot(epochs_3, val_acc_3, 'y', label='Training acc')\n",
    "\n",
    "\n",
    "plt.title('Training accuracy')\n",
    "plt.xlabel('Epochs')\n",
    "plt.ylabel('Accuracy')\n",
    "plt.legend()\n",
    "plt.show()"
   ]
  },
  {
   "cell_type": "markdown",
   "metadata": {
    "id": "pReAVfz5Bze0"
   },
   "source": [
    "###Classifier_4"
   ]
  },
  {
   "cell_type": "code",
   "execution_count": null,
   "metadata": {
    "colab": {
     "base_uri": "https://localhost:8080/"
    },
    "executionInfo": {
     "elapsed": 844,
     "status": "ok",
     "timestamp": 1615455475185,
     "user": {
      "displayName": "wile do",
      "photoUrl": "",
      "userId": "16203456976195540490"
     },
     "user_tz": -60
    },
    "id": "8EMIgnmGB1gd",
    "outputId": "adeec0eb-c324-4c68-8551-592c97f55f6c"
   },
   "outputs": [
    {
     "name": "stdout",
     "output_type": "stream",
     "text": [
      "Model: \"classifier_3\"\n",
      "_________________________________________________________________\n",
      "Layer (type)                 Output Shape              Param #   \n",
      "=================================================================\n",
      "dense_23 (Dense)             (None, 4096)              102764544 \n",
      "_________________________________________________________________\n",
      "dense_24 (Dense)             (None, 4096)              16781312  \n",
      "_________________________________________________________________\n",
      "dense_25 (Dense)             (None, 1024)              4195328   \n",
      "_________________________________________________________________\n",
      "dense_26 (Dense)             (None, 19)                19475     \n",
      "=================================================================\n",
      "Total params: 123,760,659\n",
      "Trainable params: 123,760,659\n",
      "Non-trainable params: 0\n",
      "_________________________________________________________________\n"
     ]
    }
   ],
   "source": [
    "model_4 = Sequential(name='classifier_4')\n",
    "model_4.add(Input(shape=(25088,)))\n",
    "model_4.add(Dense(4096,activation='relu'))\n",
    "model_4.add(Dense(4096,activation='relu'))\n",
    "model_4.add(Dense(1024,activation='relu'))\n",
    "model_4.add(Dense(19,activation='sigmoid'))\n",
    "model_4.summary()"
   ]
  },
  {
   "cell_type": "code",
   "execution_count": null,
   "metadata": {
    "colab": {
     "base_uri": "https://localhost:8080/"
    },
    "executionInfo": {
     "elapsed": 546332,
     "status": "ok",
     "timestamp": 1615456035726,
     "user": {
      "displayName": "wile do",
      "photoUrl": "",
      "userId": "16203456976195540490"
     },
     "user_tz": -60
    },
    "id": "A-J5zmMiB-74",
    "outputId": "0470e84f-b979-4c9d-d93e-151dbed0b6fb"
   },
   "outputs": [
    {
     "name": "stdout",
     "output_type": "stream",
     "text": [
      "Epoch 1/80\n",
      "75/75 [==============================] - 10s 105ms/step - loss: 20.4988 - auc: 0.6416 - precision: 0.2673 - recall: 0.1727 - tp: 1876.3684 - tn: 77274.3158 - fp: 4427.5921 - fn: 9977.7237 - accuracy: 0.1765 - bi_accuracy: 0.8171 - val_loss: 0.2682 - val_auc: 0.8590 - val_precision: 0.5932 - val_recall: 0.3619 - val_tp: 3416.0000 - val_tn: 65682.0000 - val_fp: 2343.0000 - val_fn: 6022.0000 - val_accuracy: 0.3326 - val_bi_accuracy: 0.8920\n",
      "Epoch 2/80\n",
      "75/75 [==============================] - 7s 89ms/step - loss: 0.7136 - auc: 0.8682 - precision: 0.6369 - recall: 0.3211 - tp: 3784.2763 - tn: 79587.5789 - fp: 2124.8684 - fn: 8059.2763 - accuracy: 0.3951 - bi_accuracy: 0.8911 - val_loss: 0.2586 - val_auc: 0.8714 - val_precision: 0.6229 - val_recall: 0.3961 - val_tp: 3738.0000 - val_tn: 65762.0000 - val_fp: 2263.0000 - val_fn: 5700.0000 - val_accuracy: 0.4361 - val_bi_accuracy: 0.8972\n",
      "Epoch 3/80\n",
      "75/75 [==============================] - 7s 89ms/step - loss: 0.6685 - auc: 0.8888 - precision: 0.6751 - recall: 0.3971 - tp: 4702.7105 - tn: 79421.1711 - fp: 2282.8026 - fn: 7149.3158 - accuracy: 0.4464 - bi_accuracy: 0.8993 - val_loss: 0.2470 - val_auc: 0.8873 - val_precision: 0.6089 - val_recall: 0.4890 - val_tp: 4615.0000 - val_tn: 65061.0000 - val_fp: 2964.0000 - val_fn: 4823.0000 - val_accuracy: 0.4226 - val_bi_accuracy: 0.8995\n",
      "Epoch 4/80\n",
      "75/75 [==============================] - 7s 89ms/step - loss: 0.6117 - auc: 0.9015 - precision: 0.6863 - recall: 0.4440 - tp: 5252.7632 - tn: 79341.1053 - fp: 2392.3026 - fn: 6569.8289 - accuracy: 0.4657 - bi_accuracy: 0.9042 - val_loss: 0.2621 - val_auc: 0.8745 - val_precision: 0.6365 - val_recall: 0.3348 - val_tp: 3160.0000 - val_tn: 66220.0000 - val_fp: 1805.0000 - val_fn: 6278.0000 - val_accuracy: 0.4283 - val_bi_accuracy: 0.8957\n",
      "Epoch 5/80\n",
      "75/75 [==============================] - 7s 89ms/step - loss: 0.5948 - auc: 0.9064 - precision: 0.6896 - recall: 0.4522 - tp: 5476.1316 - tn: 79275.9342 - fp: 2461.0132 - fn: 6342.9211 - accuracy: 0.4851 - bi_accuracy: 0.9049 - val_loss: 0.2837 - val_auc: 0.8679 - val_precision: 0.5665 - val_recall: 0.4139 - val_tp: 3906.0000 - val_tn: 65036.0000 - val_fp: 2989.0000 - val_fn: 5532.0000 - val_accuracy: 0.3250 - val_bi_accuracy: 0.8900\n",
      "Epoch 6/80\n",
      "75/75 [==============================] - 7s 89ms/step - loss: 0.5533 - auc: 0.9153 - precision: 0.6950 - recall: 0.4917 - tp: 5834.5921 - tn: 79320.3158 - fp: 2489.8289 - fn: 5911.2632 - accuracy: 0.4763 - bi_accuracy: 0.9093 - val_loss: 0.2405 - val_auc: 0.8954 - val_precision: 0.6430 - val_recall: 0.4826 - val_tp: 4555.0000 - val_tn: 65496.0000 - val_fp: 2529.0000 - val_fn: 4883.0000 - val_accuracy: 0.4408 - val_bi_accuracy: 0.9043\n",
      "Epoch 7/80\n",
      "75/75 [==============================] - 7s 90ms/step - loss: 0.5040 - auc: 0.9289 - precision: 0.7307 - recall: 0.5385 - tp: 6369.1316 - tn: 79333.3289 - fp: 2399.5789 - fn: 5453.9605 - accuracy: 0.5158 - bi_accuracy: 0.9163 - val_loss: 0.2376 - val_auc: 0.8969 - val_precision: 0.6559 - val_recall: 0.4897 - val_tp: 4622.0000 - val_tn: 65600.0000 - val_fp: 2425.0000 - val_fn: 4816.0000 - val_accuracy: 0.4449 - val_bi_accuracy: 0.9065\n",
      "Epoch 8/80\n",
      "75/75 [==============================] - 7s 90ms/step - loss: 0.4905 - auc: 0.9324 - precision: 0.7342 - recall: 0.5558 - tp: 6601.6184 - tn: 79286.3947 - fp: 2424.6974 - fn: 5243.2895 - accuracy: 0.5068 - bi_accuracy: 0.9183 - val_loss: 0.2367 - val_auc: 0.8979 - val_precision: 0.6513 - val_recall: 0.4916 - val_tp: 4640.0000 - val_tn: 65541.0000 - val_fp: 2484.0000 - val_fn: 4798.0000 - val_accuracy: 0.4778 - val_bi_accuracy: 0.9060\n",
      "Epoch 9/80\n",
      "75/75 [==============================] - 7s 89ms/step - loss: 0.4876 - auc: 0.9335 - precision: 0.7320 - recall: 0.5652 - tp: 6664.9737 - tn: 79289.2237 - fp: 2466.3816 - fn: 5135.4211 - accuracy: 0.5084 - bi_accuracy: 0.9192 - val_loss: 0.2408 - val_auc: 0.8965 - val_precision: 0.6402 - val_recall: 0.5283 - val_tp: 4986.0000 - val_tn: 65223.0000 - val_fp: 2802.0000 - val_fn: 4452.0000 - val_accuracy: 0.4525 - val_bi_accuracy: 0.9064\n",
      "Epoch 10/80\n",
      "75/75 [==============================] - 7s 90ms/step - loss: 0.4492 - auc: 0.9412 - precision: 0.7477 - recall: 0.5925 - tp: 7004.1711 - tn: 79366.6184 - fp: 2349.1316 - fn: 4836.0789 - accuracy: 0.5316 - bi_accuracy: 0.9234 - val_loss: 0.2871 - val_auc: 0.8701 - val_precision: 0.5831 - val_recall: 0.4556 - val_tp: 4300.0000 - val_tn: 64951.0000 - val_fp: 3074.0000 - val_fn: 5138.0000 - val_accuracy: 0.3704 - val_bi_accuracy: 0.8940\n",
      "Epoch 11/80\n",
      "75/75 [==============================] - 7s 90ms/step - loss: 0.4728 - auc: 0.9365 - precision: 0.7334 - recall: 0.5905 - tp: 7075.6974 - tn: 79193.3026 - fp: 2480.4868 - fn: 4806.5132 - accuracy: 0.5291 - bi_accuracy: 0.9206 - val_loss: 0.2516 - val_auc: 0.8919 - val_precision: 0.5943 - val_recall: 0.5352 - val_tp: 5051.0000 - val_tn: 64577.0000 - val_fp: 3448.0000 - val_fn: 4387.0000 - val_accuracy: 0.4489 - val_bi_accuracy: 0.8989\n",
      "Epoch 12/80\n",
      "75/75 [==============================] - 7s 90ms/step - loss: 0.4216 - auc: 0.9463 - precision: 0.7614 - recall: 0.6179 - tp: 7333.4211 - tn: 79396.1053 - fp: 2313.6316 - fn: 4512.8421 - accuracy: 0.5521 - bi_accuracy: 0.9272 - val_loss: 0.2590 - val_auc: 0.8870 - val_precision: 0.6012 - val_recall: 0.5147 - val_tp: 4858.0000 - val_tn: 64802.0000 - val_fp: 3223.0000 - val_fn: 4580.0000 - val_accuracy: 0.4658 - val_bi_accuracy: 0.8993\n",
      "Epoch 13/80\n",
      "75/75 [==============================] - 7s 90ms/step - loss: 0.4121 - auc: 0.9467 - precision: 0.7627 - recall: 0.6194 - tp: 7379.3947 - tn: 79495.1053 - fp: 2251.7500 - fn: 4429.7500 - accuracy: 0.5632 - bi_accuracy: 0.9275 - val_loss: 0.2519 - val_auc: 0.8955 - val_precision: 0.6286 - val_recall: 0.5377 - val_tp: 5075.0000 - val_tn: 65027.0000 - val_fp: 2998.0000 - val_fn: 4363.0000 - val_accuracy: 0.4722 - val_bi_accuracy: 0.9050\n",
      "Epoch 14/80\n",
      "75/75 [==============================] - 7s 90ms/step - loss: 0.3882 - auc: 0.9537 - precision: 0.7693 - recall: 0.6489 - tp: 7618.5658 - tn: 79453.0921 - fp: 2281.8158 - fn: 4202.5263 - accuracy: 0.5595 - bi_accuracy: 0.9310 - val_loss: 0.2678 - val_auc: 0.8872 - val_precision: 0.6261 - val_recall: 0.5103 - val_tp: 4816.0000 - val_tn: 65149.0000 - val_fp: 2876.0000 - val_fn: 4622.0000 - val_accuracy: 0.4643 - val_bi_accuracy: 0.9032\n",
      "Epoch 15/80\n",
      "75/75 [==============================] - 7s 91ms/step - loss: 0.3575 - auc: 0.9584 - precision: 0.7853 - recall: 0.6754 - tp: 7946.7368 - tn: 79498.5263 - fp: 2218.5921 - fn: 3892.1447 - accuracy: 0.5755 - bi_accuracy: 0.9354 - val_loss: 0.2898 - val_auc: 0.8713 - val_precision: 0.6127 - val_recall: 0.4332 - val_tp: 4089.0000 - val_tn: 65440.0000 - val_fp: 2585.0000 - val_fn: 5349.0000 - val_accuracy: 0.4496 - val_bi_accuracy: 0.8976\n",
      "Epoch 16/80\n",
      "75/75 [==============================] - 7s 90ms/step - loss: 0.3803 - auc: 0.9552 - precision: 0.7730 - recall: 0.6473 - tp: 7819.9079 - tn: 79429.2895 - fp: 2244.1053 - fn: 4062.6974 - accuracy: 0.5618 - bi_accuracy: 0.9308 - val_loss: 0.2697 - val_auc: 0.8903 - val_precision: 0.5945 - val_recall: 0.5613 - val_tp: 5298.0000 - val_tn: 64411.0000 - val_fp: 3614.0000 - val_fn: 4140.0000 - val_accuracy: 0.4128 - val_bi_accuracy: 0.8999\n",
      "Epoch 17/80\n",
      "75/75 [==============================] - 7s 89ms/step - loss: 0.3420 - auc: 0.9624 - precision: 0.7937 - recall: 0.6888 - tp: 8151.3421 - tn: 79581.1842 - fp: 2105.7237 - fn: 3717.7500 - accuracy: 0.5826 - bi_accuracy: 0.9377 - val_loss: 0.2641 - val_auc: 0.8932 - val_precision: 0.6357 - val_recall: 0.5356 - val_tp: 5055.0000 - val_tn: 65128.0000 - val_fp: 2897.0000 - val_fn: 4383.0000 - val_accuracy: 0.4768 - val_bi_accuracy: 0.9060\n",
      "Epoch 18/80\n",
      "75/75 [==============================] - 7s 90ms/step - loss: 0.3108 - auc: 0.9669 - precision: 0.8120 - recall: 0.7088 - tp: 8411.3947 - tn: 79693.3684 - fp: 1982.9342 - fn: 3468.3026 - accuracy: 0.5962 - bi_accuracy: 0.9421 - val_loss: 0.2830 - val_auc: 0.8864 - val_precision: 0.6251 - val_recall: 0.5269 - val_tp: 4973.0000 - val_tn: 65042.0000 - val_fp: 2983.0000 - val_fn: 4465.0000 - val_accuracy: 0.4638 - val_bi_accuracy: 0.9039\n",
      "Epoch 19/80\n",
      "75/75 [==============================] - 7s 90ms/step - loss: 0.3231 - auc: 0.9653 - precision: 0.8038 - recall: 0.7078 - tp: 8404.8026 - tn: 79630.0132 - fp: 2058.1447 - fn: 3463.0395 - accuracy: 0.5880 - bi_accuracy: 0.9411 - val_loss: 0.2931 - val_auc: 0.8777 - val_precision: 0.6269 - val_recall: 0.5050 - val_tp: 4766.0000 - val_tn: 65189.0000 - val_fp: 2836.0000 - val_fn: 4672.0000 - val_accuracy: 0.4749 - val_bi_accuracy: 0.9031\n",
      "Epoch 20/80\n",
      "75/75 [==============================] - 7s 90ms/step - loss: 0.3026 - auc: 0.9679 - precision: 0.8154 - recall: 0.7196 - tp: 8537.3158 - tn: 79760.3947 - fp: 1965.2763 - fn: 3293.0132 - accuracy: 0.5971 - bi_accuracy: 0.9437 - val_loss: 0.2867 - val_auc: 0.8846 - val_precision: 0.6218 - val_recall: 0.5275 - val_tp: 4979.0000 - val_tn: 64996.0000 - val_fp: 3029.0000 - val_fn: 4459.0000 - val_accuracy: 0.4493 - val_bi_accuracy: 0.9033\n",
      "Epoch 21/80\n",
      "75/75 [==============================] - 7s 90ms/step - loss: 0.2917 - auc: 0.9701 - precision: 0.8173 - recall: 0.7200 - tp: 8550.2105 - tn: 79860.7500 - fp: 1892.4868 - fn: 3252.5526 - accuracy: 0.5982 - bi_accuracy: 0.9446 - val_loss: 0.2788 - val_auc: 0.8907 - val_precision: 0.6178 - val_recall: 0.5567 - val_tp: 5254.0000 - val_tn: 64774.0000 - val_fp: 3251.0000 - val_fn: 4184.0000 - val_accuracy: 0.5016 - val_bi_accuracy: 0.9040\n",
      "Epoch 22/80\n",
      "75/75 [==============================] - 7s 89ms/step - loss: 0.2702 - auc: 0.9737 - precision: 0.8227 - recall: 0.7461 - tp: 8805.6316 - tn: 79865.5789 - fp: 1856.3816 - fn: 3028.4079 - accuracy: 0.5909 - bi_accuracy: 0.9477 - val_loss: 0.3097 - val_auc: 0.8801 - val_precision: 0.6138 - val_recall: 0.5185 - val_tp: 4894.0000 - val_tn: 64946.0000 - val_fp: 3079.0000 - val_fn: 4544.0000 - val_accuracy: 0.4611 - val_bi_accuracy: 0.9016\n",
      "Epoch 23/80\n",
      "75/75 [==============================] - 7s 90ms/step - loss: 0.2481 - auc: 0.9771 - precision: 0.8484 - recall: 0.7606 - tp: 9042.9868 - tn: 80018.2632 - fp: 1654.5526 - fn: 2840.1974 - accuracy: 0.6059 - bi_accuracy: 0.9521 - val_loss: 0.3351 - val_auc: 0.8718 - val_precision: 0.5496 - val_recall: 0.5648 - val_tp: 5331.0000 - val_tn: 63657.0000 - val_fp: 4368.0000 - val_fn: 4107.0000 - val_accuracy: 0.3937 - val_bi_accuracy: 0.8906\n",
      "Epoch 24/80\n",
      "75/75 [==============================] - 7s 90ms/step - loss: 0.2686 - auc: 0.9733 - precision: 0.8243 - recall: 0.7499 - tp: 8946.0658 - tn: 79918.6711 - fp: 1788.4868 - fn: 2902.7763 - accuracy: 0.5954 - bi_accuracy: 0.9481 - val_loss: 0.3307 - val_auc: 0.8654 - val_precision: 0.5894 - val_recall: 0.4932 - val_tp: 4655.0000 - val_tn: 64782.0000 - val_fp: 3243.0000 - val_fn: 4783.0000 - val_accuracy: 0.4226 - val_bi_accuracy: 0.8964\n",
      "Epoch 25/80\n",
      "75/75 [==============================] - 7s 89ms/step - loss: 0.2683 - auc: 0.9744 - precision: 0.8305 - recall: 0.7487 - tp: 8934.6053 - tn: 79860.7368 - fp: 1820.7237 - fn: 2939.9342 - accuracy: 0.5892 - bi_accuracy: 0.9487 - val_loss: 0.3196 - val_auc: 0.8733 - val_precision: 0.6383 - val_recall: 0.5102 - val_tp: 4815.0000 - val_tn: 65296.0000 - val_fp: 2729.0000 - val_fn: 4623.0000 - val_accuracy: 0.4697 - val_bi_accuracy: 0.9051\n",
      "Epoch 26/80\n",
      "75/75 [==============================] - 7s 89ms/step - loss: 0.2302 - auc: 0.9800 - precision: 0.8541 - recall: 0.7784 - tp: 9269.7237 - tn: 80069.4474 - fp: 1609.6842 - fn: 2607.1447 - accuracy: 0.6085 - bi_accuracy: 0.9548 - val_loss: 0.3248 - val_auc: 0.8799 - val_precision: 0.5704 - val_recall: 0.5776 - val_tp: 5451.0000 - val_tn: 63920.0000 - val_fp: 4105.0000 - val_fn: 3987.0000 - val_accuracy: 0.4400 - val_bi_accuracy: 0.8955\n",
      "Epoch 27/80\n",
      "75/75 [==============================] - 7s 90ms/step - loss: 0.2105 - auc: 0.9821 - precision: 0.8674 - recall: 0.7982 - tp: 9437.3684 - tn: 80305.3289 - fp: 1431.9474 - fn: 2381.3553 - accuracy: 0.6510 - bi_accuracy: 0.9591 - val_loss: 0.3376 - val_auc: 0.8718 - val_precision: 0.5917 - val_recall: 0.5259 - val_tp: 4963.0000 - val_tn: 64600.0000 - val_fp: 3425.0000 - val_fn: 4475.0000 - val_accuracy: 0.4668 - val_bi_accuracy: 0.8980\n",
      "Epoch 28/80\n",
      "75/75 [==============================] - 7s 90ms/step - loss: 0.2139 - auc: 0.9812 - precision: 0.8620 - recall: 0.7965 - tp: 9385.0263 - tn: 80136.5526 - fp: 1573.7763 - fn: 2460.6447 - accuracy: 0.6232 - bi_accuracy: 0.9582 - val_loss: 0.3491 - val_auc: 0.8647 - val_precision: 0.5887 - val_recall: 0.5248 - val_tp: 4953.0000 - val_tn: 64565.0000 - val_fp: 3460.0000 - val_fn: 4485.0000 - val_accuracy: 0.3907 - val_bi_accuracy: 0.8974\n",
      "Epoch 29/80\n",
      "75/75 [==============================] - 7s 91ms/step - loss: 0.2372 - auc: 0.9795 - precision: 0.8513 - recall: 0.7789 - tp: 9292.3421 - tn: 80036.1053 - fp: 1627.8947 - fn: 2599.6579 - accuracy: 0.6051 - bi_accuracy: 0.9545 - val_loss: 0.3461 - val_auc: 0.8743 - val_precision: 0.5800 - val_recall: 0.5552 - val_tp: 5240.0000 - val_tn: 64231.0000 - val_fp: 3794.0000 - val_fn: 4198.0000 - val_accuracy: 0.4285 - val_bi_accuracy: 0.8968\n",
      "Epoch 30/80\n",
      "75/75 [==============================] - 7s 90ms/step - loss: 0.2134 - auc: 0.9819 - precision: 0.8630 - recall: 0.8017 - tp: 9482.7895 - tn: 80204.8684 - fp: 1504.4079 - fn: 2363.9342 - accuracy: 0.6124 - bi_accuracy: 0.9587 - val_loss: 0.3660 - val_auc: 0.8657 - val_precision: 0.6148 - val_recall: 0.5217 - val_tp: 4924.0000 - val_tn: 64940.0000 - val_fp: 3085.0000 - val_fn: 4514.0000 - val_accuracy: 0.4704 - val_bi_accuracy: 0.9019\n",
      "Epoch 31/80\n",
      "75/75 [==============================] - 7s 90ms/step - loss: 0.2532 - auc: 0.9768 - precision: 0.8469 - recall: 0.7777 - tp: 9153.9342 - tn: 79944.9474 - fp: 1739.0000 - fn: 2718.1184 - accuracy: 0.6107 - bi_accuracy: 0.9538 - val_loss: 0.3370 - val_auc: 0.8748 - val_precision: 0.5974 - val_recall: 0.5262 - val_tp: 4966.0000 - val_tn: 64679.0000 - val_fp: 3346.0000 - val_fn: 4472.0000 - val_accuracy: 0.4511 - val_bi_accuracy: 0.8991\n",
      "Epoch 32/80\n",
      "75/75 [==============================] - 7s 91ms/step - loss: 0.1717 - auc: 0.9866 - precision: 0.8895 - recall: 0.8327 - tp: 9868.6974 - tn: 80519.7237 - fp: 1211.9342 - fn: 1955.6447 - accuracy: 0.6339 - bi_accuracy: 0.9658 - val_loss: 0.3622 - val_auc: 0.8695 - val_precision: 0.6279 - val_recall: 0.5147 - val_tp: 4858.0000 - val_tn: 65146.0000 - val_fp: 2879.0000 - val_fn: 4580.0000 - val_accuracy: 0.4680 - val_bi_accuracy: 0.9037\n",
      "Epoch 33/80\n",
      "75/75 [==============================] - 7s 90ms/step - loss: 0.1555 - auc: 0.9889 - precision: 0.9005 - recall: 0.8465 - tp: 10043.6974 - tn: 80501.0526 - fp: 1164.1184 - fn: 1847.1316 - accuracy: 0.6292 - bi_accuracy: 0.9685 - val_loss: 0.3926 - val_auc: 0.8620 - val_precision: 0.6026 - val_recall: 0.5316 - val_tp: 5017.0000 - val_tn: 64717.0000 - val_fp: 3308.0000 - val_fn: 4421.0000 - val_accuracy: 0.4520 - val_bi_accuracy: 0.9002\n",
      "Epoch 34/80\n",
      "75/75 [==============================] - 7s 90ms/step - loss: 0.1614 - auc: 0.9883 - precision: 0.8981 - recall: 0.8407 - tp: 9953.9737 - tn: 80635.3158 - fp: 1122.5789 - fn: 1844.1316 - accuracy: 0.6235 - bi_accuracy: 0.9680 - val_loss: 0.4136 - val_auc: 0.8493 - val_precision: 0.5985 - val_recall: 0.5173 - val_tp: 4882.0000 - val_tn: 64750.0000 - val_fp: 3275.0000 - val_fn: 4556.0000 - val_accuracy: 0.4543 - val_bi_accuracy: 0.8989\n",
      "Epoch 35/80\n",
      "75/75 [==============================] - 7s 91ms/step - loss: 0.1483 - auc: 0.9897 - precision: 0.9018 - recall: 0.8535 - tp: 10136.3289 - tn: 80623.7895 - fp: 1090.8158 - fn: 1705.0658 - accuracy: 0.6317 - bi_accuracy: 0.9696 - val_loss: 0.3903 - val_auc: 0.8641 - val_precision: 0.6091 - val_recall: 0.5414 - val_tp: 5110.0000 - val_tn: 64746.0000 - val_fp: 3279.0000 - val_fn: 4328.0000 - val_accuracy: 0.4552 - val_bi_accuracy: 0.9018\n",
      "Epoch 36/80\n",
      "75/75 [==============================] - 7s 89ms/step - loss: 0.1453 - auc: 0.9899 - precision: 0.9005 - recall: 0.8579 - tp: 10189.9079 - tn: 80548.2763 - fp: 1118.6842 - fn: 1699.1316 - accuracy: 0.6406 - bi_accuracy: 0.9698 - val_loss: 0.4059 - val_auc: 0.8586 - val_precision: 0.5688 - val_recall: 0.5403 - val_tp: 5099.0000 - val_tn: 64159.0000 - val_fp: 3866.0000 - val_fn: 4339.0000 - val_accuracy: 0.4425 - val_bi_accuracy: 0.8941\n",
      "Epoch 37/80\n",
      "75/75 [==============================] - 7s 90ms/step - loss: 0.1474 - auc: 0.9897 - precision: 0.9043 - recall: 0.8535 - tp: 10134.5921 - tn: 80621.1053 - fp: 1067.9605 - fn: 1732.3421 - accuracy: 0.6387 - bi_accuracy: 0.9700 - val_loss: 0.4488 - val_auc: 0.8476 - val_precision: 0.5493 - val_recall: 0.5357 - val_tp: 5056.0000 - val_tn: 63877.0000 - val_fp: 4148.0000 - val_fn: 4382.0000 - val_accuracy: 0.4273 - val_bi_accuracy: 0.8899\n",
      "Epoch 38/80\n",
      "75/75 [==============================] - 7s 90ms/step - loss: 0.1710 - auc: 0.9875 - precision: 0.8860 - recall: 0.8459 - tp: 10042.1579 - tn: 80527.5789 - fp: 1202.4868 - fn: 1783.7763 - accuracy: 0.6143 - bi_accuracy: 0.9669 - val_loss: 0.4170 - val_auc: 0.8529 - val_precision: 0.6039 - val_recall: 0.5105 - val_tp: 4818.0000 - val_tn: 64865.0000 - val_fp: 3160.0000 - val_fn: 4620.0000 - val_accuracy: 0.4351 - val_bi_accuracy: 0.8996\n",
      "Epoch 39/80\n",
      "75/75 [==============================] - 7s 90ms/step - loss: 0.1245 - auc: 0.9923 - precision: 0.9214 - recall: 0.8744 - tp: 10372.5395 - tn: 80797.1579 - fp: 910.2500 - fn: 1476.0526 - accuracy: 0.6211 - bi_accuracy: 0.9747 - val_loss: 0.4356 - val_auc: 0.8584 - val_precision: 0.5594 - val_recall: 0.5724 - val_tp: 5402.0000 - val_tn: 63771.0000 - val_fp: 4254.0000 - val_fn: 4036.0000 - val_accuracy: 0.4204 - val_bi_accuracy: 0.8930\n",
      "Epoch 40/80\n",
      "75/75 [==============================] - 7s 91ms/step - loss: 0.1839 - auc: 0.9864 - precision: 0.8747 - recall: 0.8342 - tp: 9829.8289 - tn: 80312.2368 - fp: 1397.0000 - fn: 2016.9342 - accuracy: 0.6146 - bi_accuracy: 0.9638 - val_loss: 0.3793 - val_auc: 0.8601 - val_precision: 0.5960 - val_recall: 0.5278 - val_tp: 4981.0000 - val_tn: 64648.0000 - val_fp: 3377.0000 - val_fn: 4457.0000 - val_accuracy: 0.4597 - val_bi_accuracy: 0.8989\n",
      "Epoch 41/80\n",
      "75/75 [==============================] - 7s 91ms/step - loss: 0.1470 - auc: 0.9900 - precision: 0.9031 - recall: 0.8487 - tp: 10108.8421 - tn: 80728.2895 - fp: 1023.1184 - fn: 1695.7500 - accuracy: 0.6396 - bi_accuracy: 0.9695 - val_loss: 0.4331 - val_auc: 0.8557 - val_precision: 0.6078 - val_recall: 0.5421 - val_tp: 5116.0000 - val_tn: 64724.0000 - val_fp: 3301.0000 - val_fn: 4322.0000 - val_accuracy: 0.4371 - val_bi_accuracy: 0.9016\n",
      "Epoch 42/80\n",
      "75/75 [==============================] - 7s 90ms/step - loss: 0.1144 - auc: 0.9932 - precision: 0.9241 - recall: 0.8849 - tp: 10430.9605 - tn: 80834.0263 - fp: 896.0526 - fn: 1394.9605 - accuracy: 0.6262 - bi_accuracy: 0.9763 - val_loss: 0.4420 - val_auc: 0.8479 - val_precision: 0.5909 - val_recall: 0.5075 - val_tp: 4790.0000 - val_tn: 64709.0000 - val_fp: 3316.0000 - val_fn: 4648.0000 - val_accuracy: 0.4344 - val_bi_accuracy: 0.8972\n",
      "Epoch 43/80\n",
      "75/75 [==============================] - 7s 91ms/step - loss: 0.1584 - auc: 0.9883 - precision: 0.8989 - recall: 0.8530 - tp: 10156.1447 - tn: 80611.5921 - fp: 1115.3816 - fn: 1672.8816 - accuracy: 0.6050 - bi_accuracy: 0.9694 - val_loss: 0.4117 - val_auc: 0.8594 - val_precision: 0.6030 - val_recall: 0.5406 - val_tp: 5102.0000 - val_tn: 64666.0000 - val_fp: 3359.0000 - val_fn: 4336.0000 - val_accuracy: 0.4562 - val_bi_accuracy: 0.9007\n",
      "Epoch 44/80\n",
      "75/75 [==============================] - 7s 91ms/step - loss: 0.1150 - auc: 0.9938 - precision: 0.9283 - recall: 0.8895 - tp: 10541.6711 - tn: 80898.9211 - fp: 807.8684 - fn: 1307.5395 - accuracy: 0.6327 - bi_accuracy: 0.9774 - val_loss: 0.4753 - val_auc: 0.8455 - val_precision: 0.5906 - val_recall: 0.5239 - val_tp: 4945.0000 - val_tn: 64597.0000 - val_fp: 3428.0000 - val_fn: 4493.0000 - val_accuracy: 0.4719 - val_bi_accuracy: 0.8977\n",
      "Epoch 45/80\n",
      "75/75 [==============================] - 7s 92ms/step - loss: 0.1550 - auc: 0.9919 - precision: 0.9165 - recall: 0.8774 - tp: 10425.0658 - tn: 80777.2500 - fp: 927.8553 - fn: 1425.8289 - accuracy: 0.6263 - bi_accuracy: 0.9743 - val_loss: 0.5118 - val_auc: 0.8415 - val_precision: 0.5849 - val_recall: 0.5377 - val_tp: 5075.0000 - val_tn: 64424.0000 - val_fp: 3601.0000 - val_fn: 4363.0000 - val_accuracy: 0.4207 - val_bi_accuracy: 0.8972\n",
      "Epoch 46/80\n",
      "75/75 [==============================] - 7s 90ms/step - loss: 0.1955 - auc: 0.9857 - precision: 0.8779 - recall: 0.8342 - tp: 9765.9868 - tn: 80285.6447 - fp: 1465.0000 - fn: 2039.3684 - accuracy: 0.6090 - bi_accuracy: 0.9644 - val_loss: 0.3866 - val_auc: 0.8599 - val_precision: 0.5899 - val_recall: 0.5314 - val_tp: 5015.0000 - val_tn: 64538.0000 - val_fp: 3487.0000 - val_fn: 4423.0000 - val_accuracy: 0.4861 - val_bi_accuracy: 0.8979\n",
      "Epoch 47/80\n",
      "75/75 [==============================] - 7s 90ms/step - loss: 0.1435 - auc: 0.9920 - precision: 0.9116 - recall: 0.8703 - tp: 10330.8289 - tn: 80786.6053 - fp: 948.7763 - fn: 1489.7895 - accuracy: 0.6257 - bi_accuracy: 0.9729 - val_loss: 0.4321 - val_auc: 0.8571 - val_precision: 0.5704 - val_recall: 0.5565 - val_tp: 5252.0000 - val_tn: 64069.0000 - val_fp: 3956.0000 - val_fn: 4186.0000 - val_accuracy: 0.4094 - val_bi_accuracy: 0.8949\n",
      "Epoch 48/80\n",
      "75/75 [==============================] - 7s 91ms/step - loss: 0.1601 - auc: 0.9885 - precision: 0.8983 - recall: 0.8572 - tp: 10205.4079 - tn: 80633.1579 - fp: 1076.2895 - fn: 1641.1447 - accuracy: 0.6053 - bi_accuracy: 0.9697 - val_loss: 0.4566 - val_auc: 0.8490 - val_precision: 0.5705 - val_recall: 0.5202 - val_tp: 4910.0000 - val_tn: 64329.0000 - val_fp: 3696.0000 - val_fn: 4528.0000 - val_accuracy: 0.4462 - val_bi_accuracy: 0.8938\n",
      "Epoch 49/80\n",
      "75/75 [==============================] - 7s 90ms/step - loss: 0.1597 - auc: 0.9903 - precision: 0.9061 - recall: 0.8665 - tp: 10207.8816 - tn: 80637.8553 - fp: 1102.2895 - fn: 1607.9737 - accuracy: 0.6085 - bi_accuracy: 0.9718 - val_loss: 0.4426 - val_auc: 0.8478 - val_precision: 0.5924 - val_recall: 0.5086 - val_tp: 4800.0000 - val_tn: 64722.0000 - val_fp: 3303.0000 - val_fn: 4638.0000 - val_accuracy: 0.4577 - val_bi_accuracy: 0.8975\n",
      "Epoch 50/80\n",
      "75/75 [==============================] - 7s 90ms/step - loss: 0.1948 - auc: 0.9871 - precision: 0.8870 - recall: 0.8425 - tp: 9935.3816 - tn: 80449.4868 - fp: 1279.8947 - fn: 1891.2368 - accuracy: 0.6049 - bi_accuracy: 0.9665 - val_loss: 0.4429 - val_auc: 0.8525 - val_precision: 0.5666 - val_recall: 0.5536 - val_tp: 5225.0000 - val_tn: 64029.0000 - val_fp: 3996.0000 - val_fn: 4213.0000 - val_accuracy: 0.4145 - val_bi_accuracy: 0.8940\n",
      "Epoch 51/80\n",
      "75/75 [==============================] - 7s 90ms/step - loss: 0.1381 - auc: 0.9921 - precision: 0.9189 - recall: 0.8741 - tp: 10337.3553 - tn: 80863.0921 - fp: 888.6053 - fn: 1466.9474 - accuracy: 0.6237 - bi_accuracy: 0.9745 - val_loss: 0.4804 - val_auc: 0.8363 - val_precision: 0.5823 - val_recall: 0.5078 - val_tp: 4793.0000 - val_tn: 64587.0000 - val_fp: 3438.0000 - val_fn: 4645.0000 - val_accuracy: 0.4162 - val_bi_accuracy: 0.8957\n",
      "Epoch 52/80\n",
      "75/75 [==============================] - 7s 91ms/step - loss: 0.1426 - auc: 0.9906 - precision: 0.9124 - recall: 0.8700 - tp: 10290.5921 - tn: 80709.0658 - fp: 1012.9211 - fn: 1543.4211 - accuracy: 0.6257 - bi_accuracy: 0.9730 - val_loss: 0.4409 - val_auc: 0.8551 - val_precision: 0.5689 - val_recall: 0.5487 - val_tp: 5179.0000 - val_tn: 64101.0000 - val_fp: 3924.0000 - val_fn: 4259.0000 - val_accuracy: 0.4337 - val_bi_accuracy: 0.8944\n",
      "Epoch 53/80\n",
      "75/75 [==============================] - 7s 91ms/step - loss: 0.1241 - auc: 0.9927 - precision: 0.9161 - recall: 0.8814 - tp: 10458.7500 - tn: 80883.3816 - fp: 855.8947 - fn: 1357.9737 - accuracy: 0.6170 - bi_accuracy: 0.9750 - val_loss: 0.4884 - val_auc: 0.8493 - val_precision: 0.5717 - val_recall: 0.5591 - val_tp: 5277.0000 - val_tn: 64072.0000 - val_fp: 3953.0000 - val_fn: 4161.0000 - val_accuracy: 0.4189 - val_bi_accuracy: 0.8953\n",
      "Epoch 54/80\n",
      "75/75 [==============================] - 7s 90ms/step - loss: 0.1072 - auc: 0.9939 - precision: 0.9288 - recall: 0.8983 - tp: 10650.6447 - tn: 80916.5658 - fp: 790.8158 - fn: 1197.9737 - accuracy: 0.6140 - bi_accuracy: 0.9784 - val_loss: 0.5165 - val_auc: 0.8415 - val_precision: 0.5755 - val_recall: 0.5242 - val_tp: 4947.0000 - val_tn: 64376.0000 - val_fp: 3649.0000 - val_fn: 4491.0000 - val_accuracy: 0.4334 - val_bi_accuracy: 0.8949\n",
      "Epoch 55/80\n",
      "75/75 [==============================] - 7s 91ms/step - loss: 0.0789 - auc: 0.9963 - precision: 0.9470 - recall: 0.9230 - tp: 10881.2237 - tn: 81218.2632 - fp: 560.5000 - fn: 896.0132 - accuracy: 0.6378 - bi_accuracy: 0.9839 - val_loss: 0.5671 - val_auc: 0.8337 - val_precision: 0.5927 - val_recall: 0.5354 - val_tp: 5053.0000 - val_tn: 64552.0000 - val_fp: 3473.0000 - val_fn: 4385.0000 - val_accuracy: 0.4121 - val_bi_accuracy: 0.8986\n",
      "Epoch 56/80\n",
      "75/75 [==============================] - 7s 92ms/step - loss: 0.0643 - auc: 0.9969 - precision: 0.9561 - recall: 0.9350 - tp: 11060.8289 - tn: 81250.6579 - fp: 477.2237 - fn: 767.2895 - accuracy: 0.6277 - bi_accuracy: 0.9864 - val_loss: 0.6892 - val_auc: 0.8067 - val_precision: 0.5375 - val_recall: 0.5082 - val_tp: 4796.0000 - val_tn: 63898.0000 - val_fp: 4127.0000 - val_fn: 4642.0000 - val_accuracy: 0.3714 - val_bi_accuracy: 0.8868\n",
      "Epoch 57/80\n",
      "75/75 [==============================] - 7s 90ms/step - loss: 0.2014 - auc: 0.9843 - precision: 0.8733 - recall: 0.8556 - tp: 10103.4079 - tn: 80251.0921 - fp: 1448.4868 - fn: 1753.0132 - accuracy: 0.5977 - bi_accuracy: 0.9660 - val_loss: 0.4860 - val_auc: 0.8441 - val_precision: 0.6024 - val_recall: 0.5140 - val_tp: 4851.0000 - val_tn: 64823.0000 - val_fp: 3202.0000 - val_fn: 4587.0000 - val_accuracy: 0.4099 - val_bi_accuracy: 0.8994\n",
      "Epoch 58/80\n",
      "75/75 [==============================] - 7s 91ms/step - loss: 0.1036 - auc: 0.9951 - precision: 0.9398 - recall: 0.8988 - tp: 10740.5132 - tn: 81021.7237 - fp: 652.3947 - fn: 1141.3684 - accuracy: 0.6110 - bi_accuracy: 0.9798 - val_loss: 0.5381 - val_auc: 0.8413 - val_precision: 0.5818 - val_recall: 0.5530 - val_tp: 5219.0000 - val_tn: 64273.0000 - val_fp: 3752.0000 - val_fn: 4219.0000 - val_accuracy: 0.4464 - val_bi_accuracy: 0.8971\n",
      "Epoch 59/80\n",
      "75/75 [==============================] - 7s 91ms/step - loss: 0.0965 - auc: 0.9955 - precision: 0.9428 - recall: 0.9138 - tp: 10888.9868 - tn: 81018.0921 - fp: 633.8816 - fn: 1015.0395 - accuracy: 0.6292 - bi_accuracy: 0.9819 - val_loss: 0.5925 - val_auc: 0.8319 - val_precision: 0.5821 - val_recall: 0.5369 - val_tp: 5067.0000 - val_tn: 64387.0000 - val_fp: 3638.0000 - val_fn: 4371.0000 - val_accuracy: 0.4030 - val_bi_accuracy: 0.8966\n",
      "Epoch 60/80\n",
      "75/75 [==============================] - 7s 91ms/step - loss: 0.0865 - auc: 0.9953 - precision: 0.9451 - recall: 0.9166 - tp: 10837.4737 - tn: 81035.3289 - fp: 663.2632 - fn: 1019.9342 - accuracy: 0.6137 - bi_accuracy: 0.9827 - val_loss: 0.5087 - val_auc: 0.8432 - val_precision: 0.5477 - val_recall: 0.5297 - val_tp: 4999.0000 - val_tn: 63897.0000 - val_fp: 4128.0000 - val_fn: 4439.0000 - val_accuracy: 0.4388 - val_bi_accuracy: 0.8894\n",
      "Epoch 61/80\n",
      "75/75 [==============================] - 7s 92ms/step - loss: 0.0772 - auc: 0.9963 - precision: 0.9504 - recall: 0.9222 - tp: 10942.3684 - tn: 81265.8026 - fp: 498.1579 - fn: 849.6711 - accuracy: 0.6193 - bi_accuracy: 0.9842 - val_loss: 0.6060 - val_auc: 0.8268 - val_precision: 0.5800 - val_recall: 0.5353 - val_tp: 5052.0000 - val_tn: 64366.0000 - val_fp: 3659.0000 - val_fn: 4386.0000 - val_accuracy: 0.3841 - val_bi_accuracy: 0.8961\n",
      "Epoch 62/80\n",
      "75/75 [==============================] - 7s 91ms/step - loss: 0.0557 - auc: 0.9980 - precision: 0.9631 - recall: 0.9406 - tp: 11165.1316 - tn: 81323.4868 - fp: 400.0395 - fn: 667.3421 - accuracy: 0.6285 - bi_accuracy: 0.9879 - val_loss: 0.6061 - val_auc: 0.8272 - val_precision: 0.6083 - val_recall: 0.5213 - val_tp: 4920.0000 - val_tn: 64857.0000 - val_fp: 3168.0000 - val_fn: 4518.0000 - val_accuracy: 0.4692 - val_bi_accuracy: 0.9008\n",
      "Epoch 63/80\n",
      "75/75 [==============================] - 7s 91ms/step - loss: 0.0503 - auc: 0.9978 - precision: 0.9679 - recall: 0.9465 - tp: 11149.9079 - tn: 81287.8026 - fp: 437.3947 - fn: 680.8947 - accuracy: 0.6227 - bi_accuracy: 0.9893 - val_loss: 0.5883 - val_auc: 0.8328 - val_precision: 0.5584 - val_recall: 0.5391 - val_tp: 5088.0000 - val_tn: 64002.0000 - val_fp: 4023.0000 - val_fn: 4350.0000 - val_accuracy: 0.4714 - val_bi_accuracy: 0.8919\n",
      "Epoch 64/80\n",
      "75/75 [==============================] - 7s 90ms/step - loss: 0.1190 - auc: 0.9935 - precision: 0.9217 - recall: 0.8926 - tp: 10607.1184 - tn: 80884.0921 - fp: 855.7895 - fn: 1209.0000 - accuracy: 0.6239 - bi_accuracy: 0.9769 - val_loss: 0.5400 - val_auc: 0.8480 - val_precision: 0.5604 - val_recall: 0.5676 - val_tp: 5357.0000 - val_tn: 63822.0000 - val_fp: 4203.0000 - val_fn: 4081.0000 - val_accuracy: 0.4305 - val_bi_accuracy: 0.8931\n",
      "Epoch 65/80\n",
      "75/75 [==============================] - 7s 90ms/step - loss: 0.0809 - auc: 0.9961 - precision: 0.9435 - recall: 0.9276 - tp: 11024.0000 - tn: 81119.7763 - fp: 579.7895 - fn: 832.4342 - accuracy: 0.6143 - bi_accuracy: 0.9838 - val_loss: 0.6207 - val_auc: 0.8329 - val_precision: 0.5555 - val_recall: 0.5651 - val_tp: 5333.0000 - val_tn: 63758.0000 - val_fp: 4267.0000 - val_fn: 4105.0000 - val_accuracy: 0.4219 - val_bi_accuracy: 0.8919\n",
      "Epoch 66/80\n",
      "75/75 [==============================] - 7s 91ms/step - loss: 0.0679 - auc: 0.9971 - precision: 0.9524 - recall: 0.9351 - tp: 11066.2368 - tn: 81103.2237 - fp: 576.2500 - fn: 810.2895 - accuracy: 0.6270 - bi_accuracy: 0.9858 - val_loss: 0.5904 - val_auc: 0.8313 - val_precision: 0.5993 - val_recall: 0.5360 - val_tp: 5059.0000 - val_tn: 64643.0000 - val_fp: 3382.0000 - val_fn: 4379.0000 - val_accuracy: 0.4574 - val_bi_accuracy: 0.8998\n",
      "Epoch 67/80\n",
      "75/75 [==============================] - 7s 90ms/step - loss: 0.0449 - auc: 0.9984 - precision: 0.9757 - recall: 0.9533 - tp: 11342.8421 - tn: 81361.5526 - fp: 297.6316 - fn: 553.9737 - accuracy: 0.6317 - bi_accuracy: 0.9910 - val_loss: 0.6210 - val_auc: 0.8338 - val_precision: 0.5764 - val_recall: 0.5529 - val_tp: 5218.0000 - val_tn: 64190.0000 - val_fp: 3835.0000 - val_fn: 4220.0000 - val_accuracy: 0.4454 - val_bi_accuracy: 0.8960\n",
      "Epoch 68/80\n",
      "75/75 [==============================] - 7s 91ms/step - loss: 0.0356 - auc: 0.9989 - precision: 0.9792 - recall: 0.9600 - tp: 11386.7105 - tn: 81479.4605 - fp: 238.8026 - fn: 451.0263 - accuracy: 0.6431 - bi_accuracy: 0.9924 - val_loss: 0.7216 - val_auc: 0.8204 - val_precision: 0.5823 - val_recall: 0.5449 - val_tp: 5143.0000 - val_tn: 64336.0000 - val_fp: 3689.0000 - val_fn: 4295.0000 - val_accuracy: 0.4035 - val_bi_accuracy: 0.8969\n",
      "Epoch 69/80\n",
      "75/75 [==============================] - 7s 91ms/step - loss: 0.0737 - auc: 0.9964 - precision: 0.9508 - recall: 0.9347 - tp: 11034.4211 - tn: 81080.9605 - fp: 621.4868 - fn: 819.1316 - accuracy: 0.6299 - bi_accuracy: 0.9856 - val_loss: 0.5999 - val_auc: 0.8309 - val_precision: 0.5924 - val_recall: 0.5350 - val_tp: 5049.0000 - val_tn: 64551.0000 - val_fp: 3474.0000 - val_fn: 4389.0000 - val_accuracy: 0.4739 - val_bi_accuracy: 0.8985\n",
      "Epoch 70/80\n",
      "75/75 [==============================] - 7s 91ms/step - loss: 0.2372 - auc: 0.9819 - precision: 0.8718 - recall: 0.8421 - tp: 10002.0132 - tn: 80348.0921 - fp: 1382.4474 - fn: 1823.4474 - accuracy: 0.6101 - bi_accuracy: 0.9643 - val_loss: 0.5163 - val_auc: 0.8413 - val_precision: 0.5767 - val_recall: 0.5435 - val_tp: 5130.0000 - val_tn: 64259.0000 - val_fp: 3766.0000 - val_fn: 4308.0000 - val_accuracy: 0.4086 - val_bi_accuracy: 0.8958\n",
      "Epoch 71/80\n",
      "75/75 [==============================] - 7s 91ms/step - loss: 0.1027 - auc: 0.9952 - precision: 0.9394 - recall: 0.9142 - tp: 10833.3026 - tn: 80968.6842 - fp: 725.8421 - fn: 1028.1711 - accuracy: 0.6088 - bi_accuracy: 0.9816 - val_loss: 0.5000 - val_auc: 0.8479 - val_precision: 0.5781 - val_recall: 0.5515 - val_tp: 5205.0000 - val_tn: 64226.0000 - val_fp: 3799.0000 - val_fn: 4233.0000 - val_accuracy: 0.4081 - val_bi_accuracy: 0.8963\n",
      "Epoch 72/80\n",
      "75/75 [==============================] - 7s 91ms/step - loss: 0.1476 - auc: 0.9903 - precision: 0.9210 - recall: 0.8978 - tp: 10498.1842 - tn: 80646.1842 - fp: 1028.6316 - fn: 1383.0000 - accuracy: 0.6104 - bi_accuracy: 0.9772 - val_loss: 0.5124 - val_auc: 0.8430 - val_precision: 0.5791 - val_recall: 0.5431 - val_tp: 5126.0000 - val_tn: 64299.0000 - val_fp: 3726.0000 - val_fn: 4312.0000 - val_accuracy: 0.3988 - val_bi_accuracy: 0.8962\n",
      "Epoch 73/80\n",
      "75/75 [==============================] - 7s 91ms/step - loss: 0.1491 - auc: 0.9911 - precision: 0.9175 - recall: 0.8765 - tp: 10437.4342 - tn: 80695.3816 - fp: 964.4211 - fn: 1458.7632 - accuracy: 0.5773 - bi_accuracy: 0.9742 - val_loss: 0.4943 - val_auc: 0.8387 - val_precision: 0.5476 - val_recall: 0.5286 - val_tp: 4989.0000 - val_tn: 63904.0000 - val_fp: 4121.0000 - val_fn: 4449.0000 - val_accuracy: 0.4464 - val_bi_accuracy: 0.8894\n",
      "Epoch 74/80\n",
      "75/75 [==============================] - 7s 92ms/step - loss: 0.0787 - auc: 0.9968 - precision: 0.9510 - recall: 0.9258 - tp: 11034.3553 - tn: 81191.1974 - fp: 504.5395 - fn: 825.9079 - accuracy: 0.6053 - bi_accuracy: 0.9845 - val_loss: 0.5818 - val_auc: 0.8360 - val_precision: 0.5938 - val_recall: 0.5542 - val_tp: 5231.0000 - val_tn: 64446.0000 - val_fp: 3579.0000 - val_fn: 4207.0000 - val_accuracy: 0.4324 - val_bi_accuracy: 0.8995\n",
      "Epoch 75/80\n",
      "75/75 [==============================] - 7s 92ms/step - loss: 0.0370 - auc: 0.9989 - precision: 0.9799 - recall: 0.9589 - tp: 11393.3553 - tn: 81472.6974 - fp: 224.4211 - fn: 465.5263 - accuracy: 0.6228 - bi_accuracy: 0.9923 - val_loss: 0.6130 - val_auc: 0.8328 - val_precision: 0.5706 - val_recall: 0.5533 - val_tp: 5222.0000 - val_tn: 64096.0000 - val_fp: 3929.0000 - val_fn: 4216.0000 - val_accuracy: 0.4211 - val_bi_accuracy: 0.8949\n",
      "Epoch 76/80\n",
      "75/75 [==============================] - 7s 92ms/step - loss: 0.0445 - auc: 0.9985 - precision: 0.9722 - recall: 0.9551 - tp: 11278.3553 - tn: 81441.6053 - fp: 314.4342 - fn: 521.6053 - accuracy: 0.6281 - bi_accuracy: 0.9909 - val_loss: 0.6883 - val_auc: 0.8137 - val_precision: 0.6001 - val_recall: 0.5138 - val_tp: 4849.0000 - val_tn: 64794.0000 - val_fp: 3231.0000 - val_fn: 4589.0000 - val_accuracy: 0.4633 - val_bi_accuracy: 0.8990\n",
      "Epoch 77/80\n",
      "75/75 [==============================] - 7s 91ms/step - loss: 0.0897 - auc: 0.9952 - precision: 0.9404 - recall: 0.9208 - tp: 10909.8816 - tn: 81049.0132 - fp: 681.0526 - fn: 916.0526 - accuracy: 0.6146 - bi_accuracy: 0.9826 - val_loss: 0.6495 - val_auc: 0.8195 - val_precision: 0.5751 - val_recall: 0.5248 - val_tp: 4953.0000 - val_tn: 64366.0000 - val_fp: 3659.0000 - val_fn: 4485.0000 - val_accuracy: 0.3964 - val_bi_accuracy: 0.8949\n",
      "Epoch 78/80\n",
      "75/75 [==============================] - 7s 90ms/step - loss: 0.1039 - auc: 0.9947 - precision: 0.9333 - recall: 0.9179 - tp: 10794.0526 - tn: 80893.2500 - fp: 837.2763 - fn: 1031.4211 - accuracy: 0.6297 - bi_accuracy: 0.9814 - val_loss: 0.6087 - val_auc: 0.8309 - val_precision: 0.5120 - val_recall: 0.5621 - val_tp: 5305.0000 - val_tn: 62968.0000 - val_fp: 5057.0000 - val_fn: 4133.0000 - val_accuracy: 0.4111 - val_bi_accuracy: 0.8814\n",
      "Epoch 79/80\n",
      "75/75 [==============================] - 7s 90ms/step - loss: 0.1678 - auc: 0.9897 - precision: 0.9045 - recall: 0.8773 - tp: 10429.9868 - tn: 80599.7763 - fp: 1070.1842 - fn: 1456.0526 - accuracy: 0.5903 - bi_accuracy: 0.9726 - val_loss: 0.5183 - val_auc: 0.8360 - val_precision: 0.5779 - val_recall: 0.5142 - val_tp: 4853.0000 - val_tn: 64480.0000 - val_fp: 3545.0000 - val_fn: 4585.0000 - val_accuracy: 0.4037 - val_bi_accuracy: 0.8950\n",
      "Epoch 80/80\n",
      "75/75 [==============================] - 7s 91ms/step - loss: 0.0595 - auc: 0.9983 - precision: 0.9705 - recall: 0.9425 - tp: 11148.0263 - tn: 81386.4342 - fp: 349.9737 - fn: 671.5658 - accuracy: 0.6000 - bi_accuracy: 0.9891 - val_loss: 0.6065 - val_auc: 0.8289 - val_precision: 0.5692 - val_recall: 0.5384 - val_tp: 5081.0000 - val_tn: 64179.0000 - val_fp: 3846.0000 - val_fn: 4357.0000 - val_accuracy: 0.4552 - val_bi_accuracy: 0.8941\n"
     ]
    }
   ],
   "source": [
    "metric = [\n",
    "           keras.metrics.AUC(name='auc'),\n",
    "           keras.metrics.Precision(name='precision'),\n",
    "           keras.metrics.Recall(name='recall'),\n",
    "           keras.metrics.TruePositives(name='tp'),\n",
    "           keras.metrics.TrueNegatives(name='tn'),\n",
    "           keras.metrics.FalsePositives(name='fp'),\n",
    "           keras.metrics.FalseNegatives(name='fn'),\n",
    "          keras.metrics.CategoricalAccuracy(name='accuracy'),\n",
    "          keras.metrics.BinaryAccuracy(name='bi_accuracy'),\n",
    "]\n",
    "model_4.compile(loss='binary_crossentropy', optimizer= 'adam', metrics= metric)\n",
    "result_4 = model_4.fit(x, y, batch_size=128, epochs=80, verbose=1, validation_split=0.3, class_weight=class_weights)"
   ]
  },
  {
   "cell_type": "code",
   "execution_count": null,
   "metadata": {
    "colab": {
     "base_uri": "https://localhost:8080/",
     "height": 295
    },
    "executionInfo": {
     "elapsed": 949,
     "status": "ok",
     "timestamp": 1615457027666,
     "user": {
      "displayName": "wile do",
      "photoUrl": "",
      "userId": "16203456976195540490"
     },
     "user_tz": -60
    },
    "id": "nDmXmhhUCKu7",
    "outputId": "81c71343-6bf3-4d13-acac-2a9da99a3dec"
   },
   "outputs": [
    {
     "data": {
      "image/png": "[encoded data removed]",
      "text/plain": [
       "<Figure size 432x288 with 1 Axes>"
      ]
     },
     "metadata": {
      "needs_background": "light",
      "tags": []
     },
     "output_type": "display_data"
    }
   ],
   "source": [
    "loss_4 = result_4.history['loss']\n",
    "epochs_4 = range(1, len(loss_4) + 1)\n",
    "plt.plot(epochs_4, loss_4, 'y', label='Training loss')\n",
    "\n",
    "val_loss_4 = result_4.history['val_loss']\n",
    "val_epochs_4 = range(1, len(val_loss_4) + 1)\n",
    "plt.plot(val_epochs_4, val_loss_4, 'y', label='Training loss')\n",
    "\n",
    "\n",
    "plt.title('Training loss')\n",
    "plt.xlabel('Epochs')\n",
    "plt.ylabel('Loss')\n",
    "plt.legend()\n",
    "plt.show()"
   ]
  },
  {
   "cell_type": "code",
   "execution_count": null,
   "metadata": {
    "colab": {
     "base_uri": "https://localhost:8080/",
     "height": 295
    },
    "executionInfo": {
     "elapsed": 1126,
     "status": "ok",
     "timestamp": 1615457031006,
     "user": {
      "displayName": "wile do",
      "photoUrl": "",
      "userId": "16203456976195540490"
     },
     "user_tz": -60
    },
    "id": "YcCzVrumCLcX",
    "outputId": "f57a81eb-3ee9-4417-aba8-3aa3691e38e4"
   },
   "outputs": [
    {
     "data": {
      "image/png": "[encoded data removed]",
      "text/plain": [
       "<Figure size 432x288 with 1 Axes>"
      ]
     },
     "metadata": {
      "needs_background": "light",
      "tags": []
     },
     "output_type": "display_data"
    }
   ],
   "source": [
    "acc_4 = result_4.history['accuracy']\n",
    "epochs_4 = range(1, len(loss_4) + 1)\n",
    "plt.plot(epochs_4, acc_4, 'y', label='Training loss')\n",
    "\n",
    "val_acc_4 = result_4.history['val_accuracy']\n",
    "val_epochs_4 = range(1, len(val_loss_4) + 1)\n",
    "plt.plot(val_epochs_4, val_acc_4, 'y', label='Training loss')\n",
    "\n",
    "\n",
    "plt.title('Training loss')\n",
    "plt.xlabel('Epochs')\n",
    "plt.ylabel('Loss')\n",
    "plt.legend()\n",
    "plt.show()"
   ]
  },
  {
   "cell_type": "markdown",
   "metadata": {
    "id": "ltEgWNCSRH2j"
   },
   "source": [
    "##Training Details Comparision"
   ]
  },
  {
   "cell_type": "code",
   "execution_count": null,
   "metadata": {
    "colab": {
     "base_uri": "https://localhost:8080/",
     "height": 458
    },
    "executionInfo": {
     "elapsed": 1049,
     "status": "ok",
     "timestamp": 1615457038687,
     "user": {
      "displayName": "wile do",
      "photoUrl": "",
      "userId": "16203456976195540490"
     },
     "user_tz": -60
    },
    "id": "f1KOloFERLUY",
    "outputId": "8361ccbb-a2de-4df1-b007-60c757373646"
   },
   "outputs": [
    {
     "data": {
      "image/png": "[encoded data removed]",
      "text/plain": [
       "<Figure size 1008x504 with 1 Axes>"
      ]
     },
     "metadata": {
      "needs_background": "light",
      "tags": []
     },
     "output_type": "display_data"
    }
   ],
   "source": [
    "plt.figure(figsize=(14,7))\n",
    "loss_1 = result_1.history['loss']\n",
    "epochs_1 = range(1, len(loss_1) + 1)\n",
    "plt.plot(epochs_1, loss_1, 'r', label='Classifier-A')\n",
    "\n",
    "loss_2 = result_2.history['loss']\n",
    "epochs_2 = range(1, len(loss_2) + 1)\n",
    "plt.plot(epochs_2, loss_2, 'g', label='Classifier-B')\n",
    "\n",
    "\n",
    "loss_4 = result_4.history['loss']\n",
    "epochs_4 = range(1, len(loss_4) + 1)\n",
    "plt.plot(epochs_4, loss_4, 'y', label='Classifier-C')\n",
    "\n",
    "plt.title('Training loss')\n",
    "plt.xlabel('Epochs')\n",
    "plt.ylabel('Loss')\n",
    "plt.legend()\n",
    "plt.show()"
   ]
  },
  {
   "cell_type": "code",
   "execution_count": null,
   "metadata": {
    "colab": {
     "base_uri": "https://localhost:8080/",
     "height": 458
    },
    "executionInfo": {
     "elapsed": 1497,
     "status": "ok",
     "timestamp": 1615457042351,
     "user": {
      "displayName": "wile do",
      "photoUrl": "",
      "userId": "16203456976195540490"
     },
     "user_tz": -60
    },
    "id": "eyV7eARdRVUt",
    "outputId": "dd1cd221-297f-4cec-d939-e1f44c222406"
   },
   "outputs": [
    {
     "data": {
      "image/png": "[encoded data removed]",
      "text/plain": [
       "<Figure size 1008x504 with 1 Axes>"
      ]
     },
     "metadata": {
      "needs_background": "light",
      "tags": []
     },
     "output_type": "display_data"
    }
   ],
   "source": [
    "plt.figure(figsize=(14,7))\n",
    "acc_1 = result_1.history['accuracy']\n",
    "epochs_1 = range(1, len(acc_1) + 1)\n",
    "plt.plot(epochs_1, acc_1, 'r', label='Classifier-A')\n",
    "\n",
    "acc_2 = result_2.history['accuracy']\n",
    "epochs_2 = range(1, len(acc_2) + 1)\n",
    "plt.plot(epochs_2, acc_2, 'g', label='Classifier-B')\n",
    "\n",
    "acc_4 = result_4.history['accuracy']\n",
    "epochs_4 = range(1, len(acc_4) + 1)\n",
    "plt.plot(epochs_4, acc_4, 'y', label='Classifier-C')\n",
    "\n",
    "plt.title('Training accuracy')\n",
    "plt.xlabel('Epochs')\n",
    "plt.ylabel('Loss')\n",
    "plt.legend()\n",
    "plt.show()"
   ]
  },
  {
   "cell_type": "code",
   "execution_count": null,
   "metadata": {
    "id": "la8XgGQu448j"
   },
   "outputs": [],
   "source": [
    "# Callback model\n",
    "checkpoint_filepath = '../model/CNN-based_Visual_Model/Model_Weight/13K_genre_classifier/checkpoint/weights.{epoch:02d}-{accuracy:.2f}.hdf5'\n",
    "checkpoint = ModelCheckpoint(filepath= checkpoint_filepath, save_weights_only= False, monitor='accuracy', verbose=1, save_best_only=True, mode='auto')\n",
    "# Compile model\n",
    "adam = Adam(lr=1e-4, beta_1=0.9, beta_2=0.999, epsilon=1e-08)\n",
    "model.compile(loss='binary_crossentropy', optimizer=adam, metrics=['accuracy'])\n",
    "# Fit the model\n",
    "result = model.fit(x, y, batch_size= 128 , epochs=150, verbose= 1, callbacks= [checkpoint])"
   ]
  },
  {
   "cell_type": "markdown",
   "metadata": {
    "id": "ZThH_svAOw39"
   },
   "source": [
    "##Evaluation"
   ]
  },
  {
   "cell_type": "code",
   "execution_count": null,
   "metadata": {
    "id": "O9CZSnwCY4eB"
   },
   "outputs": [],
   "source": [
    "#load saved model\n",
    "filepath = '../model/CNN-based_Visual_Model/Model_Weight/13K_genre_classifier/checkpoint/weights.136-0.66.hdf5'\n",
    "model = load_model(filepath)"
   ]
  },
  {
   "cell_type": "code",
   "execution_count": null,
   "metadata": {
    "colab": {
     "base_uri": "https://localhost:8080/"
    },
    "executionInfo": {
     "elapsed": 480,
     "status": "ok",
     "timestamp": 1614820799329,
     "user": {
      "displayName": "wile do",
      "photoUrl": "",
      "userId": "16203456976195540490"
     },
     "user_tz": -60
    },
    "id": "IKRj9Tuc0dbN",
    "outputId": "59e29bc2-d002-43f5-fb5b-b9401b466c37"
   },
   "outputs": [
    {
     "name": "stdout",
     "output_type": "stream",
     "text": [
      "Model: \"sequential\"\n",
      "_________________________________________________________________\n",
      "Layer (type)                 Output Shape              Param #   \n",
      "=================================================================\n",
      "dense (Dense)                (None, 4096)              102764544 \n",
      "_________________________________________________________________\n",
      "dense_1 (Dense)              (None, 4096)              16781312  \n",
      "_________________________________________________________________\n",
      "dropout (Dropout)            (None, 4096)              0         \n",
      "_________________________________________________________________\n",
      "dense_2 (Dense)              (None, 1024)              4195328   \n",
      "_________________________________________________________________\n",
      "dropout_1 (Dropout)          (None, 1024)              0         \n",
      "_________________________________________________________________\n",
      "dense_3 (Dense)              (None, 1024)              1049600   \n",
      "_________________________________________________________________\n",
      "dropout_2 (Dropout)          (None, 1024)              0         \n",
      "_________________________________________________________________\n",
      "dense_4 (Dense)              (None, 19)                19475     \n",
      "=================================================================\n",
      "Total params: 124,810,259\n",
      "Trainable params: 124,810,259\n",
      "Non-trainable params: 0\n",
      "_________________________________________________________________\n"
     ]
    }
   ],
   "source": [
    "model.summary()"
   ]
  },
  {
   "cell_type": "code",
   "execution_count": null,
   "metadata": {
    "colab": {
     "base_uri": "https://localhost:8080/"
    },
    "executionInfo": {
     "elapsed": 1871,
     "status": "ok",
     "timestamp": 1614625735079,
     "user": {
      "displayName": "wile do",
      "photoUrl": "",
      "userId": "16203456976195540490"
     },
     "user_tz": -60
    },
    "id": "YqHSpfRgQp98",
    "outputId": "af876206-d7b2-48b6-e722-dd90fa841e32"
   },
   "outputs": [
    {
     "name": "stdout",
     "output_type": "stream",
     "text": [
      "107/107 [==============================] - 1s 13ms/step - loss: 0.0760 - accuracy: 0.6561\n",
      "loss: 7.60%\n",
      "accuracy: 65.61%\n"
     ]
    }
   ],
   "source": [
    "# evaluate the model\n",
    "scores = model.evaluate(x, y, batch_size=128)\n",
    "print(\"%s: %.2f%%\" % (model.metrics_names[0], scores[0]*100))\n",
    "print(\"%s: %.2f%%\" % (model.metrics_names[1], scores[1]*100))\n"
   ]
  },
  {
   "cell_type": "markdown",
   "metadata": {
    "id": "kazTCsgeD95A"
   },
   "source": [
    "##Test Example"
   ]
  },
  {
   "cell_type": "code",
   "execution_count": null,
   "metadata": {
    "id": "4gSftsniMqts"
   },
   "outputs": [],
   "source": [
    "def load_test_data_from_h5py(data_path):\n",
    "  x_path = os.path.join(data_path, 'test_x.hdf5')\n",
    "  y_path = os.path.join(data_path, 'test_y.hdf5')\n",
    "  f1 = h5py.File(x_path,'r')\n",
    "  x = np.array(f1[\"x\"][:])\n",
    "  f2 = h5py.File(y_path,'r')\n",
    "  y = np.array(f2[\"y\"][:])\n",
    "  x = tf.convert_to_tensor(x, dtype=tf.float32)\n",
    "  y = tf.convert_to_tensor(y, dtype=tf.float32)\n",
    "  return x,y"
   ]
  },
  {
   "cell_type": "code",
   "execution_count": null,
   "metadata": {
    "colab": {
     "base_uri": "https://localhost:8080/"
    },
    "executionInfo": {
     "elapsed": 785853,
     "status": "ok",
     "timestamp": 1614821866726,
     "user": {
      "displayName": "wile do",
      "photoUrl": "",
      "userId": "16203456976195540490"
     },
     "user_tz": -60
    },
    "id": "CwAXeSxeNFJq",
    "outputId": "3d5bc356-f17e-43b1-e15a-4523a76e85f9"
   },
   "outputs": [
    {
     "name": "stdout",
     "output_type": "stream",
     "text": [
      "(4126, 19)\n",
      "(3471, 19)\n",
      "(3860, 19)\n",
      "(6480, 19)\n",
      "(5000, 19)\n",
      "(3723, 19)\n",
      "(6344, 19)\n",
      "(7473, 19)\n"
     ]
    }
   ],
   "source": [
    "test_data_path = '../data/86_movie/8_movie/8_movie_25088feature'\n",
    "predict_path = '../data/86_movie/8_movie/8_movie_predict_genre'\n",
    "fs = os.listdir(test_data_path)\n",
    "for i in fs:\n",
    "  f_path = os.path.join(test_data_path,i)\n",
    "  save_path = os.path.join(predict_path,i)\n",
    "  x = np.loadtxt(f_path)\n",
    "  y = model.predict(x)\n",
    "  print(y.shape)\n",
    "  np.savetxt(save_path,y)\n",
    "#x_test,y_test = load_test_data_from_h5py(test_data_path)"
   ]
  },
  {
   "cell_type": "code",
   "execution_count": null,
   "metadata": {
    "colab": {
     "base_uri": "https://localhost:8080/"
    },
    "id": "ANy2qnQg3sVS",
    "outputId": "157236bb-ef78-4c65-960a-8356a5f4be6f"
   },
   "outputs": [
    {
     "name": "stdout",
     "output_type": "stream",
     "text": [
      "(4863, 19)\n",
      "(4311, 19)\n",
      "(4539, 19)\n",
      "(4308, 19)\n",
      "(4185, 19)\n",
      "(4464, 19)\n",
      "(4143, 19)\n",
      "(4224, 19)\n",
      "(4923, 19)\n",
      "(4989, 19)\n",
      "(4674, 19)\n",
      "(4986, 19)\n",
      "(4731, 19)\n",
      "(4092, 19)\n",
      "(4260, 19)\n",
      "(4596, 19)\n",
      "(4650, 19)\n",
      "(4431, 19)\n",
      "(4488, 19)\n",
      "(4374, 19)\n",
      "(4134, 19)\n",
      "(4329, 19)\n",
      "(4542, 19)\n",
      "(4470, 19)\n",
      "(4323, 19)\n",
      "(4230, 19)\n",
      "(4239, 19)\n",
      "(4341, 19)\n",
      "(4608, 19)\n",
      "(4326, 19)\n",
      "(4443, 19)\n",
      "(4077, 19)\n",
      "(4443, 19)\n",
      "(4992, 19)\n",
      "(4803, 19)\n",
      "(4344, 19)\n",
      "(4347, 19)\n",
      "(4434, 19)\n",
      "(4404, 19)\n",
      "(4965, 19)\n",
      "(4824, 19)\n",
      "(4146, 19)\n",
      "(4992, 19)\n",
      "(4878, 19)\n",
      "(4194, 19)\n",
      "(4347, 19)\n",
      "(4671, 19)\n",
      "(4185, 19)\n",
      "(4143, 19)\n",
      "(4650, 19)\n",
      "(4299, 19)\n",
      "(4482, 19)\n",
      "(4035, 19)\n",
      "(4017, 19)\n",
      "(4293, 19)\n",
      "(4083, 19)\n",
      "(4095, 19)\n",
      "(4404, 19)\n",
      "(4152, 19)\n",
      "(4887, 19)\n",
      "(4302, 19)\n",
      "(4311, 19)\n",
      "(4080, 19)\n",
      "(4122, 19)\n",
      "(4791, 19)\n",
      "(4089, 19)\n",
      "(4563, 19)\n",
      "(4539, 19)\n",
      "(4608, 19)\n",
      "(4476, 19)\n",
      "(4485, 19)\n"
     ]
    }
   ],
   "source": [
    "test_data_path = '../data/86_movie/78_movie/78_movie_25088feature'\n",
    "predict_path = '../data/86_movie/78_movie/78_movie_predict_genres'\n",
    "fs = os.listdir(test_data_path)\n",
    "for i in fs:\n",
    "  f_path = os.path.join(test_data_path,i)\n",
    "  save_path = os.path.join(predict_path,i)\n",
    "  x = np.loadtxt(f_path)\n",
    "  y = model.predict(x)\n",
    "  print(y.shape)\n",
    "  np.savetxt(save_path,y)"
   ]
  },
  {
   "cell_type": "code",
   "execution_count": null,
   "metadata": {
    "id": "4drBZ14WOqxy"
   },
   "outputs": [],
   "source": [
    "Genres = ['Action','Adventure','Animation','Comedy','Crime','Documentary','Drama','Fantasy','History','Horror','Western','Thriller','ScienceFiction','Family','Music','Mystery','Romance','TVMovie','War']\n",
    "\n",
    "def test(path):\n",
    "  x = np.loadtxt(path)\n",
    "  #x = np.expand_dims(x,axis=0)\n",
    "  x = tf.convert_to_tensor(x,dtype=tf.float32)\n",
    "  proba = model.predict(x)\n",
    "  out_path = path.replace('feature','predict')\n",
    "  np.savetxt(out_path,proba)\n",
    "  return proba\n",
    "\n",
    "def proba_anay(proba):\n",
    "  proba = np.mean(proba,axis=0)\n",
    "  print(proba.shape)\n",
    "  sorted_categories = np.argsort(proba)[:-7:-1]\n",
    "  print(sorted_categories)\n",
    "  for i in range(6):\n",
    "    print('{}'.format(Genres[sorted_categories[i]]) + '({:.3})'.format(proba[sorted_categories[i]]))\n",
    "  print('\\n')"
   ]
  }
 ],
 "metadata": {
  "accelerator": "GPU",
  "colab": {
   "collapsed_sections": [],
   "name": "visual_model_pre-trained_on_13K_Trailer_Dataset(genre_classifier).ipynb",
   "provenance": []
  },
  "kernelspec": {
   "display_name": "Python 3 (ipykernel)",
   "language": "python",
   "name": "python3"
  },
  "language_info": {
   "codemirror_mode": {
    "name": "ipython",
    "version": 3
   },
   "file_extension": ".py",
   "mimetype": "text/x-python",
   "name": "python",
   "nbconvert_exporter": "python",
   "pygments_lexer": "ipython3",
   "version": "3.9.21"
  }
 },
 "nbformat": 4,
 "nbformat_minor": 4
}
